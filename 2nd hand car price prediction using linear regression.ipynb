{
 "cells": [
  {
   "cell_type": "markdown",
   "id": "673b577f",
   "metadata": {},
   "source": [
    "# Busiess objective"
   ]
  },
  {
   "cell_type": "raw",
   "id": "9ec1dd25",
   "metadata": {},
   "source": [
    "* A company in  Automobile reselling business is setting up its website to allow prospective cusomers to sell or buy used cars.\n",
    "* we have to design a trading algorithm to predict the best price of a used car based on its current condition."
   ]
  },
  {
   "cell_type": "markdown",
   "id": "6953ba3a",
   "metadata": {},
   "source": [
    "# Data Description"
   ]
  },
  {
   "cell_type": "raw",
   "id": "55760e9f",
   "metadata": {},
   "source": [
    "Name : Name of the car\n",
    "\n",
    "Year : year of the car when its was bought\n",
    "\n",
    "selling price :price at which the car is being sold\n",
    "\n",
    "km_driven : Number of kilometers the car is driven\n",
    "\n",
    "fuel : fuel type of car (petrol / diesel / CNG / electrical )\n",
    "\n",
    "seller_type : Tells the type of seller like individual or dealer\n",
    "\n",
    "transmission : Gear transmission of the car (Automatic/Manual)\n",
    "\n",
    "owner : The number of previous owners of the car\n",
    "\n",
    "mileage : Mileage of the car\n",
    "\n",
    "engine : The engine capacity of the car\n",
    "\n",
    "Max_power : Max power of the car\n",
    "\n",
    "torque : The rotating force of the car\n",
    "\n",
    "seats : seats of the car"
   ]
  },
  {
   "cell_type": "markdown",
   "id": "d68a989b",
   "metadata": {},
   "source": [
    "### Import crucial libraries"
   ]
  },
  {
   "cell_type": "code",
   "execution_count": 1,
   "id": "5426a96f",
   "metadata": {},
   "outputs": [],
   "source": [
    "import os\n",
    "import pandas as pd\n",
    "import numpy as np\n",
    "import matplotlib.pyplot as plt\n",
    "import seaborn as sns"
   ]
  },
  {
   "cell_type": "code",
   "execution_count": 2,
   "id": "536130aa",
   "metadata": {},
   "outputs": [
    {
     "data": {
      "text/plain": [
       "['batch 05 document.docx',\n",
       " 'Car Price Prediction using Linear Regression (1).docx',\n",
       " 'case study module 3 problem statement.pdf',\n",
       " 'Data Sets-20220427.zip',\n",
       " 'LinearRegressionModel.pkl',\n",
       " '_Dataset.csv']"
      ]
     },
     "execution_count": 2,
     "metadata": {},
     "output_type": "execute_result"
    }
   ],
   "source": [
    "# Change the directory into directory where the data is stored\n",
    "os.chdir(r'C:\\Users\\SUBRAHMANYAM\\OneDrive\\Desktop\\casestudy3')\n",
    "# List all the files in current directory\n",
    "list(os.listdir())"
   ]
  },
  {
   "cell_type": "code",
   "execution_count": 3,
   "id": "8a815d25",
   "metadata": {},
   "outputs": [
    {
     "data": {
      "text/html": [
       "<div>\n",
       "<style scoped>\n",
       "    .dataframe tbody tr th:only-of-type {\n",
       "        vertical-align: middle;\n",
       "    }\n",
       "\n",
       "    .dataframe tbody tr th {\n",
       "        vertical-align: top;\n",
       "    }\n",
       "\n",
       "    .dataframe thead th {\n",
       "        text-align: right;\n",
       "    }\n",
       "</style>\n",
       "<table border=\"1\" class=\"dataframe\">\n",
       "  <thead>\n",
       "    <tr style=\"text-align: right;\">\n",
       "      <th></th>\n",
       "      <th>name</th>\n",
       "      <th>year</th>\n",
       "      <th>selling_price</th>\n",
       "      <th>km_driven</th>\n",
       "      <th>fuel</th>\n",
       "      <th>seller_type</th>\n",
       "      <th>transmission</th>\n",
       "      <th>owner</th>\n",
       "      <th>mileage</th>\n",
       "      <th>engine</th>\n",
       "      <th>max_power</th>\n",
       "      <th>torque</th>\n",
       "      <th>seats</th>\n",
       "    </tr>\n",
       "  </thead>\n",
       "  <tbody>\n",
       "    <tr>\n",
       "      <th>0</th>\n",
       "      <td>Maruti Swift Dzire VDI</td>\n",
       "      <td>2014</td>\n",
       "      <td>450000</td>\n",
       "      <td>145500</td>\n",
       "      <td>Diesel</td>\n",
       "      <td>Individual</td>\n",
       "      <td>Manual</td>\n",
       "      <td>First Owner</td>\n",
       "      <td>23.4 kmpl</td>\n",
       "      <td>1248 CC</td>\n",
       "      <td>74 bhp</td>\n",
       "      <td>190Nm@ 2000rpm</td>\n",
       "      <td>5.0</td>\n",
       "    </tr>\n",
       "    <tr>\n",
       "      <th>1</th>\n",
       "      <td>Skoda Rapid 1.5 TDI Ambition</td>\n",
       "      <td>2014</td>\n",
       "      <td>370000</td>\n",
       "      <td>120000</td>\n",
       "      <td>Diesel</td>\n",
       "      <td>Individual</td>\n",
       "      <td>Manual</td>\n",
       "      <td>Second Owner</td>\n",
       "      <td>21.14 kmpl</td>\n",
       "      <td>1498 CC</td>\n",
       "      <td>103.52 bhp</td>\n",
       "      <td>250Nm@ 1500-2500rpm</td>\n",
       "      <td>5.0</td>\n",
       "    </tr>\n",
       "    <tr>\n",
       "      <th>2</th>\n",
       "      <td>Honda City 2017-2020 EXi</td>\n",
       "      <td>2006</td>\n",
       "      <td>158000</td>\n",
       "      <td>140000</td>\n",
       "      <td>Petrol</td>\n",
       "      <td>Individual</td>\n",
       "      <td>Manual</td>\n",
       "      <td>Third Owner</td>\n",
       "      <td>17.7 kmpl</td>\n",
       "      <td>1497 CC</td>\n",
       "      <td>78 bhp</td>\n",
       "      <td>12.7@ 2,700(kgm@ rpm)</td>\n",
       "      <td>5.0</td>\n",
       "    </tr>\n",
       "    <tr>\n",
       "      <th>3</th>\n",
       "      <td>Hyundai i20 Sportz Diesel</td>\n",
       "      <td>2010</td>\n",
       "      <td>225000</td>\n",
       "      <td>127000</td>\n",
       "      <td>Diesel</td>\n",
       "      <td>Individual</td>\n",
       "      <td>Manual</td>\n",
       "      <td>First Owner</td>\n",
       "      <td>23.0 kmpl</td>\n",
       "      <td>1396 CC</td>\n",
       "      <td>90 bhp</td>\n",
       "      <td>22.4 kgm at 1750-2750rpm</td>\n",
       "      <td>5.0</td>\n",
       "    </tr>\n",
       "    <tr>\n",
       "      <th>4</th>\n",
       "      <td>Maruti Swift VXI BSIII</td>\n",
       "      <td>2007</td>\n",
       "      <td>130000</td>\n",
       "      <td>120000</td>\n",
       "      <td>Petrol</td>\n",
       "      <td>Individual</td>\n",
       "      <td>Manual</td>\n",
       "      <td>First Owner</td>\n",
       "      <td>16.1 kmpl</td>\n",
       "      <td>1298 CC</td>\n",
       "      <td>88.2 bhp</td>\n",
       "      <td>11.5@ 4,500(kgm@ rpm)</td>\n",
       "      <td>5.0</td>\n",
       "    </tr>\n",
       "  </tbody>\n",
       "</table>\n",
       "</div>"
      ],
      "text/plain": [
       "                           name  year  selling_price  km_driven    fuel  \\\n",
       "0        Maruti Swift Dzire VDI  2014         450000     145500  Diesel   \n",
       "1  Skoda Rapid 1.5 TDI Ambition  2014         370000     120000  Diesel   \n",
       "2      Honda City 2017-2020 EXi  2006         158000     140000  Petrol   \n",
       "3     Hyundai i20 Sportz Diesel  2010         225000     127000  Diesel   \n",
       "4        Maruti Swift VXI BSIII  2007         130000     120000  Petrol   \n",
       "\n",
       "  seller_type transmission         owner     mileage   engine   max_power  \\\n",
       "0  Individual       Manual   First Owner   23.4 kmpl  1248 CC      74 bhp   \n",
       "1  Individual       Manual  Second Owner  21.14 kmpl  1498 CC  103.52 bhp   \n",
       "2  Individual       Manual   Third Owner   17.7 kmpl  1497 CC      78 bhp   \n",
       "3  Individual       Manual   First Owner   23.0 kmpl  1396 CC      90 bhp   \n",
       "4  Individual       Manual   First Owner   16.1 kmpl  1298 CC    88.2 bhp   \n",
       "\n",
       "                     torque  seats  \n",
       "0            190Nm@ 2000rpm    5.0  \n",
       "1       250Nm@ 1500-2500rpm    5.0  \n",
       "2     12.7@ 2,700(kgm@ rpm)    5.0  \n",
       "3  22.4 kgm at 1750-2750rpm    5.0  \n",
       "4     11.5@ 4,500(kgm@ rpm)    5.0  "
      ]
     },
     "execution_count": 3,
     "metadata": {},
     "output_type": "execute_result"
    }
   ],
   "source": [
    "# Read the data by using pandas module\n",
    "data = pd.read_csv('_Dataset.csv')\n",
    "data.head()"
   ]
  },
  {
   "cell_type": "code",
   "execution_count": 4,
   "id": "a2f06dc8",
   "metadata": {},
   "outputs": [
    {
     "data": {
      "text/plain": [
       "(8128, 13)"
      ]
     },
     "execution_count": 4,
     "metadata": {},
     "output_type": "execute_result"
    }
   ],
   "source": [
    "# Shape of the data\n",
    "data.shape"
   ]
  },
  {
   "cell_type": "code",
   "execution_count": 5,
   "id": "56093886",
   "metadata": {},
   "outputs": [
    {
     "data": {
      "text/plain": [
       "Index(['name', 'year', 'selling_price', 'km_driven', 'fuel', 'seller_type',\n",
       "       'transmission', 'owner', 'mileage', 'engine', 'max_power', 'torque',\n",
       "       'seats'],\n",
       "      dtype='object')"
      ]
     },
     "execution_count": 5,
     "metadata": {},
     "output_type": "execute_result"
    }
   ],
   "source": [
    "# All columns in the data\n",
    "data.columns"
   ]
  },
  {
   "cell_type": "code",
   "execution_count": 6,
   "id": "9d1cc6a7",
   "metadata": {},
   "outputs": [],
   "source": [
    "# Removing unwanted records\n",
    "data.drop(labels=['name', 'torque'], axis=1, inplace=True)"
   ]
  },
  {
   "cell_type": "code",
   "execution_count": 7,
   "id": "9d6a77d2",
   "metadata": {},
   "outputs": [],
   "source": [
    "# sperating units of mileage into seperate column\n",
    "data[['mileage', 'units']] = data['mileage'].str.split(pat=' ', expand=True)"
   ]
  },
  {
   "cell_type": "code",
   "execution_count": 8,
   "id": "8ab82046",
   "metadata": {},
   "outputs": [
    {
     "name": "stdout",
     "output_type": "stream",
     "text": [
      "<class 'pandas.core.frame.DataFrame'>\n",
      "RangeIndex: 8128 entries, 0 to 8127\n",
      "Data columns (total 12 columns):\n",
      " #   Column         Non-Null Count  Dtype  \n",
      "---  ------         --------------  -----  \n",
      " 0   year           8128 non-null   int64  \n",
      " 1   selling_price  8128 non-null   int64  \n",
      " 2   km_driven      8128 non-null   int64  \n",
      " 3   fuel           8128 non-null   object \n",
      " 4   seller_type    8128 non-null   object \n",
      " 5   transmission   8128 non-null   object \n",
      " 6   owner          8128 non-null   object \n",
      " 7   mileage        7907 non-null   object \n",
      " 8   engine         7907 non-null   object \n",
      " 9   max_power      7913 non-null   object \n",
      " 10  seats          7907 non-null   float64\n",
      " 11  units          7907 non-null   object \n",
      "dtypes: float64(1), int64(3), object(8)\n",
      "memory usage: 762.1+ KB\n"
     ]
    }
   ],
   "source": [
    "# Summary of the data\n",
    "data.info()"
   ]
  },
  {
   "cell_type": "code",
   "execution_count": 9,
   "id": "8cfdad73",
   "metadata": {},
   "outputs": [],
   "source": [
    "# Convert the feature(s) which are read in incorrect format to correct format\n",
    "data['mileage'] = pd.to_numeric(data['mileage'], downcast='integer')"
   ]
  },
  {
   "cell_type": "code",
   "execution_count": 10,
   "id": "b0b7f753",
   "metadata": {},
   "outputs": [
    {
     "data": {
      "text/plain": [
       "kmpl     7819\n",
       "km/kg      88\n",
       "Name: units, dtype: int64"
      ]
     },
     "execution_count": 10,
     "metadata": {},
     "output_type": "execute_result"
    }
   ],
   "source": [
    "data['units'].value_counts()"
   ]
  },
  {
   "cell_type": "code",
   "execution_count": 11,
   "id": "c8bbc771",
   "metadata": {},
   "outputs": [],
   "source": [
    "# converting all units into same unit\n",
    "data['mileage_in_kmpl'] = np.where(data['units']=='km/kg', data['mileage']*1.40, data['mileage'])"
   ]
  },
  {
   "cell_type": "code",
   "execution_count": 12,
   "id": "f7535df3",
   "metadata": {},
   "outputs": [],
   "source": [
    "# Removing unwanted records\n",
    "data.drop(labels=['units', 'mileage'], axis = 1, inplace=True)"
   ]
  },
  {
   "cell_type": "code",
   "execution_count": 13,
   "id": "2a786923",
   "metadata": {},
   "outputs": [
    {
     "name": "stdout",
     "output_type": "stream",
     "text": [
      "<class 'pandas.core.frame.DataFrame'>\n",
      "RangeIndex: 8128 entries, 0 to 8127\n",
      "Data columns (total 11 columns):\n",
      " #   Column           Non-Null Count  Dtype  \n",
      "---  ------           --------------  -----  \n",
      " 0   year             8128 non-null   int64  \n",
      " 1   selling_price    8128 non-null   int64  \n",
      " 2   km_driven        8128 non-null   int64  \n",
      " 3   fuel             8128 non-null   object \n",
      " 4   seller_type      8128 non-null   object \n",
      " 5   transmission     8128 non-null   object \n",
      " 6   owner            8128 non-null   object \n",
      " 7   engine           7907 non-null   object \n",
      " 8   max_power        7913 non-null   object \n",
      " 9   seats            7907 non-null   float64\n",
      " 10  mileage_in_kmpl  7907 non-null   float64\n",
      "dtypes: float64(2), int64(3), object(6)\n",
      "memory usage: 698.6+ KB\n"
     ]
    }
   ],
   "source": [
    "# checking data again\n",
    "data.info()"
   ]
  },
  {
   "cell_type": "code",
   "execution_count": 14,
   "id": "f972f544",
   "metadata": {},
   "outputs": [],
   "source": [
    "# sperating units of engine into seperate column\n",
    "data[['engine', 'units']] = data['engine'].str.split(pat=' ', expand=True)"
   ]
  },
  {
   "cell_type": "code",
   "execution_count": 15,
   "id": "c3d502db",
   "metadata": {},
   "outputs": [],
   "source": [
    "# converting all units into same unit\n",
    "data['engine_capacity_cc'] = pd.to_numeric(data['engine'], downcast='integer')"
   ]
  },
  {
   "cell_type": "code",
   "execution_count": 16,
   "id": "02e5305b",
   "metadata": {},
   "outputs": [],
   "source": [
    "# Removing unwanted records\n",
    "data.drop(labels=['units', 'engine'], axis = 1, inplace=True)"
   ]
  },
  {
   "cell_type": "code",
   "execution_count": 17,
   "id": "b9a45875",
   "metadata": {},
   "outputs": [
    {
     "name": "stdout",
     "output_type": "stream",
     "text": [
      "<class 'pandas.core.frame.DataFrame'>\n",
      "RangeIndex: 8128 entries, 0 to 8127\n",
      "Data columns (total 11 columns):\n",
      " #   Column              Non-Null Count  Dtype  \n",
      "---  ------              --------------  -----  \n",
      " 0   year                8128 non-null   int64  \n",
      " 1   selling_price       8128 non-null   int64  \n",
      " 2   km_driven           8128 non-null   int64  \n",
      " 3   fuel                8128 non-null   object \n",
      " 4   seller_type         8128 non-null   object \n",
      " 5   transmission        8128 non-null   object \n",
      " 6   owner               8128 non-null   object \n",
      " 7   max_power           7913 non-null   object \n",
      " 8   seats               7907 non-null   float64\n",
      " 9   mileage_in_kmpl     7907 non-null   float64\n",
      " 10  engine_capacity_cc  7907 non-null   float64\n",
      "dtypes: float64(3), int64(3), object(5)\n",
      "memory usage: 698.6+ KB\n"
     ]
    }
   ],
   "source": [
    "# checking data again\n",
    "data.info()"
   ]
  },
  {
   "cell_type": "code",
   "execution_count": 18,
   "id": "a6537b10",
   "metadata": {},
   "outputs": [],
   "source": [
    "data[['max_power', 'units']] = data['max_power'].str.split(pat=' ', expand=True)\n",
    "data['max_power_bhp'] = pd.to_numeric(data['max_power'], downcast='integer')\n",
    "data.drop(['max_power','units'], axis = 1, inplace=True)"
   ]
  },
  {
   "cell_type": "code",
   "execution_count": 19,
   "id": "ffaeea91",
   "metadata": {},
   "outputs": [
    {
     "name": "stdout",
     "output_type": "stream",
     "text": [
      "<class 'pandas.core.frame.DataFrame'>\n",
      "RangeIndex: 8128 entries, 0 to 8127\n",
      "Data columns (total 11 columns):\n",
      " #   Column              Non-Null Count  Dtype  \n",
      "---  ------              --------------  -----  \n",
      " 0   year                8128 non-null   int64  \n",
      " 1   selling_price       8128 non-null   int64  \n",
      " 2   km_driven           8128 non-null   int64  \n",
      " 3   fuel                8128 non-null   object \n",
      " 4   seller_type         8128 non-null   object \n",
      " 5   transmission        8128 non-null   object \n",
      " 6   owner               8128 non-null   object \n",
      " 7   seats               7907 non-null   float64\n",
      " 8   mileage_in_kmpl     7907 non-null   float64\n",
      " 9   engine_capacity_cc  7907 non-null   float64\n",
      " 10  max_power_bhp       7912 non-null   float64\n",
      "dtypes: float64(4), int64(3), object(4)\n",
      "memory usage: 698.6+ KB\n"
     ]
    }
   ],
   "source": [
    "data.info()"
   ]
  },
  {
   "cell_type": "code",
   "execution_count": 20,
   "id": "7a8dcb93",
   "metadata": {
    "scrolled": true
   },
   "outputs": [
    {
     "data": {
      "text/html": [
       "<div>\n",
       "<style scoped>\n",
       "    .dataframe tbody tr th:only-of-type {\n",
       "        vertical-align: middle;\n",
       "    }\n",
       "\n",
       "    .dataframe tbody tr th {\n",
       "        vertical-align: top;\n",
       "    }\n",
       "\n",
       "    .dataframe thead th {\n",
       "        text-align: right;\n",
       "    }\n",
       "</style>\n",
       "<table border=\"1\" class=\"dataframe\">\n",
       "  <thead>\n",
       "    <tr style=\"text-align: right;\">\n",
       "      <th></th>\n",
       "      <th>year</th>\n",
       "      <th>selling_price</th>\n",
       "      <th>km_driven</th>\n",
       "      <th>fuel</th>\n",
       "      <th>seller_type</th>\n",
       "      <th>transmission</th>\n",
       "      <th>owner</th>\n",
       "      <th>seats</th>\n",
       "      <th>mileage_in_kmpl</th>\n",
       "      <th>engine_capacity_cc</th>\n",
       "      <th>max_power_bhp</th>\n",
       "    </tr>\n",
       "  </thead>\n",
       "  <tbody>\n",
       "    <tr>\n",
       "      <th>0</th>\n",
       "      <td>False</td>\n",
       "      <td>False</td>\n",
       "      <td>False</td>\n",
       "      <td>False</td>\n",
       "      <td>False</td>\n",
       "      <td>False</td>\n",
       "      <td>False</td>\n",
       "      <td>False</td>\n",
       "      <td>False</td>\n",
       "      <td>False</td>\n",
       "      <td>False</td>\n",
       "    </tr>\n",
       "    <tr>\n",
       "      <th>1</th>\n",
       "      <td>False</td>\n",
       "      <td>False</td>\n",
       "      <td>False</td>\n",
       "      <td>False</td>\n",
       "      <td>False</td>\n",
       "      <td>False</td>\n",
       "      <td>False</td>\n",
       "      <td>False</td>\n",
       "      <td>False</td>\n",
       "      <td>False</td>\n",
       "      <td>False</td>\n",
       "    </tr>\n",
       "    <tr>\n",
       "      <th>2</th>\n",
       "      <td>False</td>\n",
       "      <td>False</td>\n",
       "      <td>False</td>\n",
       "      <td>False</td>\n",
       "      <td>False</td>\n",
       "      <td>False</td>\n",
       "      <td>False</td>\n",
       "      <td>False</td>\n",
       "      <td>False</td>\n",
       "      <td>False</td>\n",
       "      <td>False</td>\n",
       "    </tr>\n",
       "    <tr>\n",
       "      <th>3</th>\n",
       "      <td>False</td>\n",
       "      <td>False</td>\n",
       "      <td>False</td>\n",
       "      <td>False</td>\n",
       "      <td>False</td>\n",
       "      <td>False</td>\n",
       "      <td>False</td>\n",
       "      <td>False</td>\n",
       "      <td>False</td>\n",
       "      <td>False</td>\n",
       "      <td>False</td>\n",
       "    </tr>\n",
       "    <tr>\n",
       "      <th>4</th>\n",
       "      <td>False</td>\n",
       "      <td>False</td>\n",
       "      <td>False</td>\n",
       "      <td>False</td>\n",
       "      <td>False</td>\n",
       "      <td>False</td>\n",
       "      <td>False</td>\n",
       "      <td>False</td>\n",
       "      <td>False</td>\n",
       "      <td>False</td>\n",
       "      <td>False</td>\n",
       "    </tr>\n",
       "    <tr>\n",
       "      <th>...</th>\n",
       "      <td>...</td>\n",
       "      <td>...</td>\n",
       "      <td>...</td>\n",
       "      <td>...</td>\n",
       "      <td>...</td>\n",
       "      <td>...</td>\n",
       "      <td>...</td>\n",
       "      <td>...</td>\n",
       "      <td>...</td>\n",
       "      <td>...</td>\n",
       "      <td>...</td>\n",
       "    </tr>\n",
       "    <tr>\n",
       "      <th>8123</th>\n",
       "      <td>False</td>\n",
       "      <td>False</td>\n",
       "      <td>False</td>\n",
       "      <td>False</td>\n",
       "      <td>False</td>\n",
       "      <td>False</td>\n",
       "      <td>False</td>\n",
       "      <td>False</td>\n",
       "      <td>False</td>\n",
       "      <td>False</td>\n",
       "      <td>False</td>\n",
       "    </tr>\n",
       "    <tr>\n",
       "      <th>8124</th>\n",
       "      <td>False</td>\n",
       "      <td>False</td>\n",
       "      <td>False</td>\n",
       "      <td>False</td>\n",
       "      <td>False</td>\n",
       "      <td>False</td>\n",
       "      <td>False</td>\n",
       "      <td>False</td>\n",
       "      <td>False</td>\n",
       "      <td>False</td>\n",
       "      <td>False</td>\n",
       "    </tr>\n",
       "    <tr>\n",
       "      <th>8125</th>\n",
       "      <td>False</td>\n",
       "      <td>False</td>\n",
       "      <td>False</td>\n",
       "      <td>False</td>\n",
       "      <td>False</td>\n",
       "      <td>False</td>\n",
       "      <td>False</td>\n",
       "      <td>False</td>\n",
       "      <td>False</td>\n",
       "      <td>False</td>\n",
       "      <td>False</td>\n",
       "    </tr>\n",
       "    <tr>\n",
       "      <th>8126</th>\n",
       "      <td>False</td>\n",
       "      <td>False</td>\n",
       "      <td>False</td>\n",
       "      <td>False</td>\n",
       "      <td>False</td>\n",
       "      <td>False</td>\n",
       "      <td>False</td>\n",
       "      <td>False</td>\n",
       "      <td>False</td>\n",
       "      <td>False</td>\n",
       "      <td>False</td>\n",
       "    </tr>\n",
       "    <tr>\n",
       "      <th>8127</th>\n",
       "      <td>False</td>\n",
       "      <td>False</td>\n",
       "      <td>False</td>\n",
       "      <td>False</td>\n",
       "      <td>False</td>\n",
       "      <td>False</td>\n",
       "      <td>False</td>\n",
       "      <td>False</td>\n",
       "      <td>False</td>\n",
       "      <td>False</td>\n",
       "      <td>False</td>\n",
       "    </tr>\n",
       "  </tbody>\n",
       "</table>\n",
       "<p>8128 rows × 11 columns</p>\n",
       "</div>"
      ],
      "text/plain": [
       "       year  selling_price  km_driven   fuel  seller_type  transmission  \\\n",
       "0     False          False      False  False        False         False   \n",
       "1     False          False      False  False        False         False   \n",
       "2     False          False      False  False        False         False   \n",
       "3     False          False      False  False        False         False   \n",
       "4     False          False      False  False        False         False   \n",
       "...     ...            ...        ...    ...          ...           ...   \n",
       "8123  False          False      False  False        False         False   \n",
       "8124  False          False      False  False        False         False   \n",
       "8125  False          False      False  False        False         False   \n",
       "8126  False          False      False  False        False         False   \n",
       "8127  False          False      False  False        False         False   \n",
       "\n",
       "      owner  seats  mileage_in_kmpl  engine_capacity_cc  max_power_bhp  \n",
       "0     False  False            False               False          False  \n",
       "1     False  False            False               False          False  \n",
       "2     False  False            False               False          False  \n",
       "3     False  False            False               False          False  \n",
       "4     False  False            False               False          False  \n",
       "...     ...    ...              ...                 ...            ...  \n",
       "8123  False  False            False               False          False  \n",
       "8124  False  False            False               False          False  \n",
       "8125  False  False            False               False          False  \n",
       "8126  False  False            False               False          False  \n",
       "8127  False  False            False               False          False  \n",
       "\n",
       "[8128 rows x 11 columns]"
      ]
     },
     "execution_count": 20,
     "metadata": {},
     "output_type": "execute_result"
    }
   ],
   "source": [
    "data.isnull()"
   ]
  },
  {
   "cell_type": "code",
   "execution_count": 21,
   "id": "d8066e4c",
   "metadata": {},
   "outputs": [
    {
     "name": "stdout",
     "output_type": "stream",
     "text": [
      "2.718996062992126\n",
      "2.718996062992126\n",
      "2.718996062992126\n",
      "2.65748031496063\n"
     ]
    }
   ],
   "source": [
    "# missing values percentage\n",
    "print((221/8128)*100)\n",
    "print((221/8128)*100)\n",
    "print((221/8128)*100)\n",
    "print((216/8128)*100)"
   ]
  },
  {
   "cell_type": "code",
   "execution_count": 22,
   "id": "951279d5",
   "metadata": {},
   "outputs": [
    {
     "data": {
      "text/plain": [
       "year                    0\n",
       "selling_price           0\n",
       "km_driven               0\n",
       "fuel                    0\n",
       "seller_type             0\n",
       "transmission            0\n",
       "owner                   0\n",
       "seats                 221\n",
       "mileage_in_kmpl       221\n",
       "engine_capacity_cc    221\n",
       "max_power_bhp         216\n",
       "dtype: int64"
      ]
     },
     "execution_count": 22,
     "metadata": {},
     "output_type": "execute_result"
    }
   ],
   "source": [
    "# Null values\n",
    "data.isnull().sum()"
   ]
  },
  {
   "cell_type": "code",
   "execution_count": 23,
   "id": "ee4025fd",
   "metadata": {},
   "outputs": [
    {
     "data": {
      "image/png": "[encoded data removed]",
      "text/plain": [
       "<Figure size 432x288 with 2 Axes>"
      ]
     },
     "metadata": {
      "needs_background": "light"
     },
     "output_type": "display_data"
    }
   ],
   "source": [
    "sns.heatmap(data.isnull(), yticklabels=False);"
   ]
  },
  {
   "cell_type": "code",
   "execution_count": 24,
   "id": "2a648a11",
   "metadata": {},
   "outputs": [],
   "source": [
    "#Replacing null values with mean\n",
    "for i in data.select_dtypes(include='number').columns:\n",
    "    data[i] = data[i].fillna(data[i].mean())"
   ]
  },
  {
   "cell_type": "code",
   "execution_count": 25,
   "id": "270b74ea",
   "metadata": {},
   "outputs": [
    {
     "data": {
      "text/plain": [
       "year                  0\n",
       "selling_price         0\n",
       "km_driven             0\n",
       "fuel                  0\n",
       "seller_type           0\n",
       "transmission          0\n",
       "owner                 0\n",
       "seats                 0\n",
       "mileage_in_kmpl       0\n",
       "engine_capacity_cc    0\n",
       "max_power_bhp         0\n",
       "dtype: int64"
      ]
     },
     "execution_count": 25,
     "metadata": {},
     "output_type": "execute_result"
    }
   ],
   "source": [
    "data.isnull().sum()"
   ]
  },
  {
   "cell_type": "code",
   "execution_count": 26,
   "id": "5daa782b",
   "metadata": {},
   "outputs": [
    {
     "data": {
      "image/png": "[encoded data removed]",
      "text/plain": [
       "<Figure size 432x288 with 2 Axes>"
      ]
     },
     "metadata": {
      "needs_background": "light"
     },
     "output_type": "display_data"
    }
   ],
   "source": [
    "sns.heatmap(data.isnull(), yticklabels=False);"
   ]
  },
  {
   "cell_type": "code",
   "execution_count": 27,
   "id": "b3001180",
   "metadata": {},
   "outputs": [
    {
     "data": {
      "text/plain": [
       "1221"
      ]
     },
     "execution_count": 27,
     "metadata": {},
     "output_type": "execute_result"
    }
   ],
   "source": [
    "# Dulpicate records\n",
    "data.duplicated().sum()"
   ]
  },
  {
   "cell_type": "code",
   "execution_count": 28,
   "id": "44c366ab",
   "metadata": {},
   "outputs": [
    {
     "name": "stdout",
     "output_type": "stream",
     "text": [
      "15.022145669291339\n"
     ]
    }
   ],
   "source": [
    "# duplicated values percentage\n",
    "print((1221/8128)*100)"
   ]
  },
  {
   "cell_type": "code",
   "execution_count": 29,
   "id": "4a5bfc76",
   "metadata": {},
   "outputs": [],
   "source": [
    "# Removing duplicated records\n",
    "data.drop_duplicates(inplace=True)"
   ]
  },
  {
   "cell_type": "code",
   "execution_count": 30,
   "id": "beec1ff9",
   "metadata": {},
   "outputs": [],
   "source": [
    "data = data.reset_index(drop=True)"
   ]
  },
  {
   "cell_type": "code",
   "execution_count": 31,
   "id": "a9622c70",
   "metadata": {},
   "outputs": [
    {
     "data": {
      "text/html": [
       "<div>\n",
       "<style scoped>\n",
       "    .dataframe tbody tr th:only-of-type {\n",
       "        vertical-align: middle;\n",
       "    }\n",
       "\n",
       "    .dataframe tbody tr th {\n",
       "        vertical-align: top;\n",
       "    }\n",
       "\n",
       "    .dataframe thead th {\n",
       "        text-align: right;\n",
       "    }\n",
       "</style>\n",
       "<table border=\"1\" class=\"dataframe\">\n",
       "  <thead>\n",
       "    <tr style=\"text-align: right;\">\n",
       "      <th></th>\n",
       "      <th>year</th>\n",
       "      <th>selling_price</th>\n",
       "      <th>km_driven</th>\n",
       "      <th>fuel</th>\n",
       "      <th>seller_type</th>\n",
       "      <th>transmission</th>\n",
       "      <th>owner</th>\n",
       "      <th>seats</th>\n",
       "      <th>mileage_in_kmpl</th>\n",
       "      <th>engine_capacity_cc</th>\n",
       "      <th>max_power_bhp</th>\n",
       "    </tr>\n",
       "  </thead>\n",
       "  <tbody>\n",
       "    <tr>\n",
       "      <th>0</th>\n",
       "      <td>2014</td>\n",
       "      <td>450000</td>\n",
       "      <td>145500</td>\n",
       "      <td>Diesel</td>\n",
       "      <td>Individual</td>\n",
       "      <td>Manual</td>\n",
       "      <td>First Owner</td>\n",
       "      <td>5.0</td>\n",
       "      <td>23.40</td>\n",
       "      <td>1248.0</td>\n",
       "      <td>74.00</td>\n",
       "    </tr>\n",
       "    <tr>\n",
       "      <th>1</th>\n",
       "      <td>2014</td>\n",
       "      <td>370000</td>\n",
       "      <td>120000</td>\n",
       "      <td>Diesel</td>\n",
       "      <td>Individual</td>\n",
       "      <td>Manual</td>\n",
       "      <td>Second Owner</td>\n",
       "      <td>5.0</td>\n",
       "      <td>21.14</td>\n",
       "      <td>1498.0</td>\n",
       "      <td>103.52</td>\n",
       "    </tr>\n",
       "    <tr>\n",
       "      <th>2</th>\n",
       "      <td>2006</td>\n",
       "      <td>158000</td>\n",
       "      <td>140000</td>\n",
       "      <td>Petrol</td>\n",
       "      <td>Individual</td>\n",
       "      <td>Manual</td>\n",
       "      <td>Third Owner</td>\n",
       "      <td>5.0</td>\n",
       "      <td>17.70</td>\n",
       "      <td>1497.0</td>\n",
       "      <td>78.00</td>\n",
       "    </tr>\n",
       "    <tr>\n",
       "      <th>3</th>\n",
       "      <td>2010</td>\n",
       "      <td>225000</td>\n",
       "      <td>127000</td>\n",
       "      <td>Diesel</td>\n",
       "      <td>Individual</td>\n",
       "      <td>Manual</td>\n",
       "      <td>First Owner</td>\n",
       "      <td>5.0</td>\n",
       "      <td>23.00</td>\n",
       "      <td>1396.0</td>\n",
       "      <td>90.00</td>\n",
       "    </tr>\n",
       "    <tr>\n",
       "      <th>4</th>\n",
       "      <td>2007</td>\n",
       "      <td>130000</td>\n",
       "      <td>120000</td>\n",
       "      <td>Petrol</td>\n",
       "      <td>Individual</td>\n",
       "      <td>Manual</td>\n",
       "      <td>First Owner</td>\n",
       "      <td>5.0</td>\n",
       "      <td>16.10</td>\n",
       "      <td>1298.0</td>\n",
       "      <td>88.20</td>\n",
       "    </tr>\n",
       "  </tbody>\n",
       "</table>\n",
       "</div>"
      ],
      "text/plain": [
       "   year  selling_price  km_driven    fuel seller_type transmission  \\\n",
       "0  2014         450000     145500  Diesel  Individual       Manual   \n",
       "1  2014         370000     120000  Diesel  Individual       Manual   \n",
       "2  2006         158000     140000  Petrol  Individual       Manual   \n",
       "3  2010         225000     127000  Diesel  Individual       Manual   \n",
       "4  2007         130000     120000  Petrol  Individual       Manual   \n",
       "\n",
       "          owner  seats  mileage_in_kmpl  engine_capacity_cc  max_power_bhp  \n",
       "0   First Owner    5.0            23.40              1248.0          74.00  \n",
       "1  Second Owner    5.0            21.14              1498.0         103.52  \n",
       "2   Third Owner    5.0            17.70              1497.0          78.00  \n",
       "3   First Owner    5.0            23.00              1396.0          90.00  \n",
       "4   First Owner    5.0            16.10              1298.0          88.20  "
      ]
     },
     "execution_count": 31,
     "metadata": {},
     "output_type": "execute_result"
    }
   ],
   "source": [
    "data.head()"
   ]
  },
  {
   "cell_type": "code",
   "execution_count": 32,
   "id": "1d57bfe1",
   "metadata": {},
   "outputs": [],
   "source": [
    "data['car_years']=2022-data['year']"
   ]
  },
  {
   "cell_type": "code",
   "execution_count": 33,
   "id": "e8de77bb",
   "metadata": {},
   "outputs": [],
   "source": [
    "data.drop(labels=['year'], axis = 1, inplace=True)\n"
   ]
  },
  {
   "cell_type": "code",
   "execution_count": 34,
   "id": "eacd7708",
   "metadata": {},
   "outputs": [
    {
     "data": {
      "text/plain": [
       "array(['Individual', 'Dealer', 'Trustmark Dealer'], dtype=object)"
      ]
     },
     "execution_count": 34,
     "metadata": {},
     "output_type": "execute_result"
    }
   ],
   "source": [
    "data['seller_type'].unique()"
   ]
  },
  {
   "cell_type": "code",
   "execution_count": 35,
   "id": "5da3c31b",
   "metadata": {},
   "outputs": [
    {
     "data": {
      "text/plain": [
       "array(['Manual', 'Automatic'], dtype=object)"
      ]
     },
     "execution_count": 35,
     "metadata": {},
     "output_type": "execute_result"
    }
   ],
   "source": [
    "data['transmission'].unique()"
   ]
  },
  {
   "cell_type": "code",
   "execution_count": 36,
   "id": "71f5b91f",
   "metadata": {},
   "outputs": [
    {
     "data": {
      "text/plain": [
       "array(['First Owner', 'Second Owner', 'Third Owner',\n",
       "       'Fourth & Above Owner', 'Test Drive Car'], dtype=object)"
      ]
     },
     "execution_count": 36,
     "metadata": {},
     "output_type": "execute_result"
    }
   ],
   "source": [
    "data['owner'].unique()"
   ]
  },
  {
   "cell_type": "code",
   "execution_count": 37,
   "id": "36bfb3c9",
   "metadata": {},
   "outputs": [
    {
     "data": {
      "text/plain": [
       "array(['Diesel', 'Petrol', 'LPG', 'CNG'], dtype=object)"
      ]
     },
     "execution_count": 37,
     "metadata": {},
     "output_type": "execute_result"
    }
   ],
   "source": [
    "data['fuel'].unique()"
   ]
  },
  {
   "cell_type": "raw",
   "id": "03784299",
   "metadata": {},
   "source": [
    "Taking\n",
    "In seller_type : Individual=0 ,Dealer=1 ,Trustmark Dealer=2 \n",
    "In transmission : Manual=0 ,Automatic=1 \n",
    "In owner : Test Drive Car=0 ,First Owner=1 ,Second Owner=2 ,Third Owner=3 ,Fourth & Above Owner=4 \n",
    "In fuel : Diesel=0 ,Petrol=1 ,LPG=2 ,CNG=3"
   ]
  },
  {
   "cell_type": "code",
   "execution_count": 38,
   "id": "81a82596",
   "metadata": {},
   "outputs": [],
   "source": [
    "data.fuel.replace(regex={\"Diesel\":0,\"Petrol\":1,\"LPG\":2,\"CNG\":3},inplace=True)\n",
    "data.owner.replace(regex={\"Test Drive Car\":0,\"First Owner\":1,\"Second Owner\":2,\"Third Owner\":3,\"Fourth & Above Owner\":4},inplace=True)\n",
    "data.transmission.replace(regex={\"Manual\":0,\"Automatic\":1},inplace=True)\n",
    "data.seller_type.replace(regex={\"Individual\":0,\"Dealer\":1,\"Trustmark Dealer\":2},inplace=True)"
   ]
  },
  {
   "cell_type": "code",
   "execution_count": 39,
   "id": "0dcdcf55",
   "metadata": {},
   "outputs": [
    {
     "data": {
      "text/html": [
       "<div>\n",
       "<style scoped>\n",
       "    .dataframe tbody tr th:only-of-type {\n",
       "        vertical-align: middle;\n",
       "    }\n",
       "\n",
       "    .dataframe tbody tr th {\n",
       "        vertical-align: top;\n",
       "    }\n",
       "\n",
       "    .dataframe thead th {\n",
       "        text-align: right;\n",
       "    }\n",
       "</style>\n",
       "<table border=\"1\" class=\"dataframe\">\n",
       "  <thead>\n",
       "    <tr style=\"text-align: right;\">\n",
       "      <th></th>\n",
       "      <th>selling_price</th>\n",
       "      <th>km_driven</th>\n",
       "      <th>fuel</th>\n",
       "      <th>seller_type</th>\n",
       "      <th>transmission</th>\n",
       "      <th>owner</th>\n",
       "      <th>seats</th>\n",
       "      <th>mileage_in_kmpl</th>\n",
       "      <th>engine_capacity_cc</th>\n",
       "      <th>max_power_bhp</th>\n",
       "      <th>car_years</th>\n",
       "    </tr>\n",
       "  </thead>\n",
       "  <tbody>\n",
       "    <tr>\n",
       "      <th>0</th>\n",
       "      <td>450000</td>\n",
       "      <td>145500</td>\n",
       "      <td>0</td>\n",
       "      <td>0</td>\n",
       "      <td>0</td>\n",
       "      <td>1</td>\n",
       "      <td>5.0</td>\n",
       "      <td>23.40</td>\n",
       "      <td>1248.0</td>\n",
       "      <td>74.00</td>\n",
       "      <td>8</td>\n",
       "    </tr>\n",
       "    <tr>\n",
       "      <th>1</th>\n",
       "      <td>370000</td>\n",
       "      <td>120000</td>\n",
       "      <td>0</td>\n",
       "      <td>0</td>\n",
       "      <td>0</td>\n",
       "      <td>2</td>\n",
       "      <td>5.0</td>\n",
       "      <td>21.14</td>\n",
       "      <td>1498.0</td>\n",
       "      <td>103.52</td>\n",
       "      <td>8</td>\n",
       "    </tr>\n",
       "    <tr>\n",
       "      <th>2</th>\n",
       "      <td>158000</td>\n",
       "      <td>140000</td>\n",
       "      <td>1</td>\n",
       "      <td>0</td>\n",
       "      <td>0</td>\n",
       "      <td>3</td>\n",
       "      <td>5.0</td>\n",
       "      <td>17.70</td>\n",
       "      <td>1497.0</td>\n",
       "      <td>78.00</td>\n",
       "      <td>16</td>\n",
       "    </tr>\n",
       "    <tr>\n",
       "      <th>3</th>\n",
       "      <td>225000</td>\n",
       "      <td>127000</td>\n",
       "      <td>0</td>\n",
       "      <td>0</td>\n",
       "      <td>0</td>\n",
       "      <td>1</td>\n",
       "      <td>5.0</td>\n",
       "      <td>23.00</td>\n",
       "      <td>1396.0</td>\n",
       "      <td>90.00</td>\n",
       "      <td>12</td>\n",
       "    </tr>\n",
       "    <tr>\n",
       "      <th>4</th>\n",
       "      <td>130000</td>\n",
       "      <td>120000</td>\n",
       "      <td>1</td>\n",
       "      <td>0</td>\n",
       "      <td>0</td>\n",
       "      <td>1</td>\n",
       "      <td>5.0</td>\n",
       "      <td>16.10</td>\n",
       "      <td>1298.0</td>\n",
       "      <td>88.20</td>\n",
       "      <td>15</td>\n",
       "    </tr>\n",
       "  </tbody>\n",
       "</table>\n",
       "</div>"
      ],
      "text/plain": [
       "   selling_price  km_driven  fuel  seller_type  transmission  owner  seats  \\\n",
       "0         450000     145500     0            0             0      1    5.0   \n",
       "1         370000     120000     0            0             0      2    5.0   \n",
       "2         158000     140000     1            0             0      3    5.0   \n",
       "3         225000     127000     0            0             0      1    5.0   \n",
       "4         130000     120000     1            0             0      1    5.0   \n",
       "\n",
       "   mileage_in_kmpl  engine_capacity_cc  max_power_bhp  car_years  \n",
       "0            23.40              1248.0          74.00          8  \n",
       "1            21.14              1498.0         103.52          8  \n",
       "2            17.70              1497.0          78.00         16  \n",
       "3            23.00              1396.0          90.00         12  \n",
       "4            16.10              1298.0          88.20         15  "
      ]
     },
     "execution_count": 39,
     "metadata": {},
     "output_type": "execute_result"
    }
   ],
   "source": [
    "data.head()"
   ]
  },
  {
   "cell_type": "code",
   "execution_count": 40,
   "id": "e3f0c157",
   "metadata": {},
   "outputs": [
    {
     "name": "stdout",
     "output_type": "stream",
     "text": [
      "<class 'pandas.core.frame.DataFrame'>\n",
      "RangeIndex: 6907 entries, 0 to 6906\n",
      "Data columns (total 11 columns):\n",
      " #   Column              Non-Null Count  Dtype  \n",
      "---  ------              --------------  -----  \n",
      " 0   selling_price       6907 non-null   int64  \n",
      " 1   km_driven           6907 non-null   int64  \n",
      " 2   fuel                6907 non-null   int64  \n",
      " 3   seller_type         6907 non-null   int64  \n",
      " 4   transmission        6907 non-null   int64  \n",
      " 5   owner               6907 non-null   int64  \n",
      " 6   seats               6907 non-null   float64\n",
      " 7   mileage_in_kmpl     6907 non-null   float64\n",
      " 8   engine_capacity_cc  6907 non-null   float64\n",
      " 9   max_power_bhp       6907 non-null   float64\n",
      " 10  car_years           6907 non-null   int64  \n",
      "dtypes: float64(4), int64(7)\n",
      "memory usage: 593.7 KB\n"
     ]
    }
   ],
   "source": [
    "data.info()"
   ]
  },
  {
   "cell_type": "code",
   "execution_count": 41,
   "id": "88d85761",
   "metadata": {
    "scrolled": true
   },
   "outputs": [
    {
     "data": {
      "text/html": [
       "<div>\n",
       "<style scoped>\n",
       "    .dataframe tbody tr th:only-of-type {\n",
       "        vertical-align: middle;\n",
       "    }\n",
       "\n",
       "    .dataframe tbody tr th {\n",
       "        vertical-align: top;\n",
       "    }\n",
       "\n",
       "    .dataframe thead th {\n",
       "        text-align: right;\n",
       "    }\n",
       "</style>\n",
       "<table border=\"1\" class=\"dataframe\">\n",
       "  <thead>\n",
       "    <tr style=\"text-align: right;\">\n",
       "      <th></th>\n",
       "      <th>selling_price</th>\n",
       "      <th>km_driven</th>\n",
       "      <th>fuel</th>\n",
       "      <th>seller_type</th>\n",
       "      <th>transmission</th>\n",
       "      <th>owner</th>\n",
       "      <th>seats</th>\n",
       "      <th>mileage_in_kmpl</th>\n",
       "      <th>engine_capacity_cc</th>\n",
       "      <th>max_power_bhp</th>\n",
       "      <th>car_years</th>\n",
       "    </tr>\n",
       "  </thead>\n",
       "  <tbody>\n",
       "    <tr>\n",
       "      <th>count</th>\n",
       "      <td>6.907000e+03</td>\n",
       "      <td>6.907000e+03</td>\n",
       "      <td>6907.000000</td>\n",
       "      <td>6907.000000</td>\n",
       "      <td>6907.000000</td>\n",
       "      <td>6907.000000</td>\n",
       "      <td>6907.000000</td>\n",
       "      <td>6907.000000</td>\n",
       "      <td>6907.000000</td>\n",
       "      <td>6907.000000</td>\n",
       "      <td>6907.000000</td>\n",
       "    </tr>\n",
       "    <tr>\n",
       "      <th>mean</th>\n",
       "      <td>5.174456e+05</td>\n",
       "      <td>7.400715e+04</td>\n",
       "      <td>0.479224</td>\n",
       "      <td>0.102505</td>\n",
       "      <td>0.084552</td>\n",
       "      <td>1.513247</td>\n",
       "      <td>5.433861</td>\n",
       "      <td>19.575820</td>\n",
       "      <td>1431.877806</td>\n",
       "      <td>87.860463</td>\n",
       "      <td>8.583321</td>\n",
       "    </tr>\n",
       "    <tr>\n",
       "      <th>std</th>\n",
       "      <td>5.203562e+05</td>\n",
       "      <td>5.836081e+04</td>\n",
       "      <td>0.556114</td>\n",
       "      <td>0.303333</td>\n",
       "      <td>0.278234</td>\n",
       "      <td>0.743885</td>\n",
       "      <td>0.969561</td>\n",
       "      <td>4.217264</td>\n",
       "      <td>485.901750</td>\n",
       "      <td>31.314519</td>\n",
       "      <td>4.080794</td>\n",
       "    </tr>\n",
       "    <tr>\n",
       "      <th>min</th>\n",
       "      <td>2.999900e+04</td>\n",
       "      <td>1.000000e+00</td>\n",
       "      <td>0.000000</td>\n",
       "      <td>0.000000</td>\n",
       "      <td>0.000000</td>\n",
       "      <td>0.000000</td>\n",
       "      <td>2.000000</td>\n",
       "      <td>0.000000</td>\n",
       "      <td>624.000000</td>\n",
       "      <td>0.000000</td>\n",
       "      <td>2.000000</td>\n",
       "    </tr>\n",
       "    <tr>\n",
       "      <th>1%</th>\n",
       "      <td>5.012000e+04</td>\n",
       "      <td>5.000000e+03</td>\n",
       "      <td>0.000000</td>\n",
       "      <td>0.000000</td>\n",
       "      <td>0.000000</td>\n",
       "      <td>1.000000</td>\n",
       "      <td>4.000000</td>\n",
       "      <td>11.360000</td>\n",
       "      <td>796.000000</td>\n",
       "      <td>37.000000</td>\n",
       "      <td>3.000000</td>\n",
       "    </tr>\n",
       "    <tr>\n",
       "      <th>5%</th>\n",
       "      <td>1.000000e+05</td>\n",
       "      <td>1.200000e+04</td>\n",
       "      <td>0.000000</td>\n",
       "      <td>0.000000</td>\n",
       "      <td>0.000000</td>\n",
       "      <td>1.000000</td>\n",
       "      <td>5.000000</td>\n",
       "      <td>12.900000</td>\n",
       "      <td>796.000000</td>\n",
       "      <td>47.300000</td>\n",
       "      <td>3.000000</td>\n",
       "    </tr>\n",
       "    <tr>\n",
       "      <th>10%</th>\n",
       "      <td>1.450000e+05</td>\n",
       "      <td>2.000000e+04</td>\n",
       "      <td>0.000000</td>\n",
       "      <td>0.000000</td>\n",
       "      <td>0.000000</td>\n",
       "      <td>1.000000</td>\n",
       "      <td>5.000000</td>\n",
       "      <td>14.000000</td>\n",
       "      <td>993.000000</td>\n",
       "      <td>57.600000</td>\n",
       "      <td>4.000000</td>\n",
       "    </tr>\n",
       "    <tr>\n",
       "      <th>25%</th>\n",
       "      <td>2.500000e+05</td>\n",
       "      <td>4.000000e+04</td>\n",
       "      <td>0.000000</td>\n",
       "      <td>0.000000</td>\n",
       "      <td>0.000000</td>\n",
       "      <td>1.000000</td>\n",
       "      <td>5.000000</td>\n",
       "      <td>17.000000</td>\n",
       "      <td>1197.000000</td>\n",
       "      <td>68.000000</td>\n",
       "      <td>5.000000</td>\n",
       "    </tr>\n",
       "    <tr>\n",
       "      <th>50%</th>\n",
       "      <td>4.000000e+05</td>\n",
       "      <td>7.000000e+04</td>\n",
       "      <td>0.000000</td>\n",
       "      <td>0.000000</td>\n",
       "      <td>0.000000</td>\n",
       "      <td>1.000000</td>\n",
       "      <td>5.000000</td>\n",
       "      <td>19.516468</td>\n",
       "      <td>1248.000000</td>\n",
       "      <td>81.860000</td>\n",
       "      <td>8.000000</td>\n",
       "    </tr>\n",
       "    <tr>\n",
       "      <th>75%</th>\n",
       "      <td>6.345000e+05</td>\n",
       "      <td>1.000000e+05</td>\n",
       "      <td>1.000000</td>\n",
       "      <td>0.000000</td>\n",
       "      <td>0.000000</td>\n",
       "      <td>2.000000</td>\n",
       "      <td>5.000000</td>\n",
       "      <td>22.320000</td>\n",
       "      <td>1498.000000</td>\n",
       "      <td>99.000000</td>\n",
       "      <td>11.000000</td>\n",
       "    </tr>\n",
       "    <tr>\n",
       "      <th>90%</th>\n",
       "      <td>9.000000e+05</td>\n",
       "      <td>1.200000e+05</td>\n",
       "      <td>1.000000</td>\n",
       "      <td>1.000000</td>\n",
       "      <td>0.000000</td>\n",
       "      <td>3.000000</td>\n",
       "      <td>7.000000</td>\n",
       "      <td>24.952000</td>\n",
       "      <td>2179.000000</td>\n",
       "      <td>126.300000</td>\n",
       "      <td>14.000000</td>\n",
       "    </tr>\n",
       "    <tr>\n",
       "      <th>95%</th>\n",
       "      <td>1.200000e+06</td>\n",
       "      <td>1.567005e+05</td>\n",
       "      <td>1.000000</td>\n",
       "      <td>1.000000</td>\n",
       "      <td>1.000000</td>\n",
       "      <td>3.000000</td>\n",
       "      <td>7.000000</td>\n",
       "      <td>25.830000</td>\n",
       "      <td>2499.000000</td>\n",
       "      <td>147.800000</td>\n",
       "      <td>16.000000</td>\n",
       "    </tr>\n",
       "    <tr>\n",
       "      <th>99%</th>\n",
       "      <td>2.710340e+06</td>\n",
       "      <td>2.389702e+05</td>\n",
       "      <td>2.000000</td>\n",
       "      <td>1.000000</td>\n",
       "      <td>1.000000</td>\n",
       "      <td>4.000000</td>\n",
       "      <td>9.000000</td>\n",
       "      <td>28.400000</td>\n",
       "      <td>2956.000000</td>\n",
       "      <td>190.000000</td>\n",
       "      <td>21.000000</td>\n",
       "    </tr>\n",
       "    <tr>\n",
       "      <th>max</th>\n",
       "      <td>1.000000e+07</td>\n",
       "      <td>2.360457e+06</td>\n",
       "      <td>3.000000</td>\n",
       "      <td>1.000000</td>\n",
       "      <td>1.000000</td>\n",
       "      <td>4.000000</td>\n",
       "      <td>14.000000</td>\n",
       "      <td>46.816000</td>\n",
       "      <td>3604.000000</td>\n",
       "      <td>400.000000</td>\n",
       "      <td>39.000000</td>\n",
       "    </tr>\n",
       "  </tbody>\n",
       "</table>\n",
       "</div>"
      ],
      "text/plain": [
       "       selling_price     km_driven         fuel  seller_type  transmission  \\\n",
       "count   6.907000e+03  6.907000e+03  6907.000000  6907.000000   6907.000000   \n",
       "mean    5.174456e+05  7.400715e+04     0.479224     0.102505      0.084552   \n",
       "std     5.203562e+05  5.836081e+04     0.556114     0.303333      0.278234   \n",
       "min     2.999900e+04  1.000000e+00     0.000000     0.000000      0.000000   \n",
       "1%      5.012000e+04  5.000000e+03     0.000000     0.000000      0.000000   \n",
       "5%      1.000000e+05  1.200000e+04     0.000000     0.000000      0.000000   \n",
       "10%     1.450000e+05  2.000000e+04     0.000000     0.000000      0.000000   \n",
       "25%     2.500000e+05  4.000000e+04     0.000000     0.000000      0.000000   \n",
       "50%     4.000000e+05  7.000000e+04     0.000000     0.000000      0.000000   \n",
       "75%     6.345000e+05  1.000000e+05     1.000000     0.000000      0.000000   \n",
       "90%     9.000000e+05  1.200000e+05     1.000000     1.000000      0.000000   \n",
       "95%     1.200000e+06  1.567005e+05     1.000000     1.000000      1.000000   \n",
       "99%     2.710340e+06  2.389702e+05     2.000000     1.000000      1.000000   \n",
       "max     1.000000e+07  2.360457e+06     3.000000     1.000000      1.000000   \n",
       "\n",
       "             owner        seats  mileage_in_kmpl  engine_capacity_cc  \\\n",
       "count  6907.000000  6907.000000      6907.000000         6907.000000   \n",
       "mean      1.513247     5.433861        19.575820         1431.877806   \n",
       "std       0.743885     0.969561         4.217264          485.901750   \n",
       "min       0.000000     2.000000         0.000000          624.000000   \n",
       "1%        1.000000     4.000000        11.360000          796.000000   \n",
       "5%        1.000000     5.000000        12.900000          796.000000   \n",
       "10%       1.000000     5.000000        14.000000          993.000000   \n",
       "25%       1.000000     5.000000        17.000000         1197.000000   \n",
       "50%       1.000000     5.000000        19.516468         1248.000000   \n",
       "75%       2.000000     5.000000        22.320000         1498.000000   \n",
       "90%       3.000000     7.000000        24.952000         2179.000000   \n",
       "95%       3.000000     7.000000        25.830000         2499.000000   \n",
       "99%       4.000000     9.000000        28.400000         2956.000000   \n",
       "max       4.000000    14.000000        46.816000         3604.000000   \n",
       "\n",
       "       max_power_bhp    car_years  \n",
       "count    6907.000000  6907.000000  \n",
       "mean       87.860463     8.583321  \n",
       "std        31.314519     4.080794  \n",
       "min         0.000000     2.000000  \n",
       "1%         37.000000     3.000000  \n",
       "5%         47.300000     3.000000  \n",
       "10%        57.600000     4.000000  \n",
       "25%        68.000000     5.000000  \n",
       "50%        81.860000     8.000000  \n",
       "75%        99.000000    11.000000  \n",
       "90%       126.300000    14.000000  \n",
       "95%       147.800000    16.000000  \n",
       "99%       190.000000    21.000000  \n",
       "max       400.000000    39.000000  "
      ]
     },
     "execution_count": 41,
     "metadata": {},
     "output_type": "execute_result"
    }
   ],
   "source": [
    "# outliers\n",
    "data.describe(percentiles=[0.01, 0.05, 0.1, 0.25, 0.5, 0.75, 0.9, 0.95, 0.99])"
   ]
  },
  {
   "cell_type": "code",
   "execution_count": 42,
   "id": "9adf75b3",
   "metadata": {},
   "outputs": [],
   "source": [
    "# outliers\n",
    " "
   ]
  },
  {
   "cell_type": "code",
   "execution_count": 43,
   "id": "acc35e20",
   "metadata": {},
   "outputs": [
    {
     "name": "stdout",
     "output_type": "stream",
     "text": [
      "Lower limit is -25.0 and Upper limit is 192.0\n"
     ]
    }
   ],
   "source": [
    "# Extreme outliers\n",
    "IQR = data['max_power_bhp'].quantile(0.75)-data['max_power_bhp'].quantile(0.25)\n",
    "lower_limit=data['max_power_bhp'].quantile(0.25)-(IQR*3)\n",
    "upper_limit=data['max_power_bhp'].quantile(0.75)+(IQR*3)\n",
    "print('Lower limit is {} and Upper limit is {}'.format(lower_limit,upper_limit))"
   ]
  },
  {
   "cell_type": "code",
   "execution_count": 44,
   "id": "529ee49c",
   "metadata": {},
   "outputs": [
    {
     "name": "stdout",
     "output_type": "stream",
     "text": [
      "371\n",
      "3\n"
     ]
    },
    {
     "data": {
      "text/plain": [
       "(None, None)"
      ]
     },
     "execution_count": 44,
     "metadata": {},
     "output_type": "execute_result"
    }
   ],
   "source": [
    "max_power_bhp_upper_outliers = (data['max_power_bhp'] > 145.5).sum()\n",
    "max_power_bhp_lower_outliers = (data['max_power_bhp'] < 21.5).sum()\n",
    "print(max_power_bhp_upper_outliers),print(max_power_bhp_lower_outliers)"
   ]
  },
  {
   "cell_type": "code",
   "execution_count": 45,
   "id": "9a697ff5",
   "metadata": {},
   "outputs": [],
   "source": [
    "data.loc[data['max_power_bhp']>145.5,'max_power_bhp']=145.5\n",
    "data.loc[data['max_power_bhp']<21.5,'max_power_bhp']=21.5"
   ]
  },
  {
   "cell_type": "code",
   "execution_count": 46,
   "id": "86625d85",
   "metadata": {},
   "outputs": [
    {
     "name": "stdout",
     "output_type": "stream",
     "text": [
      "0\n",
      "0\n"
     ]
    }
   ],
   "source": [
    "print((data['max_power_bhp'] > 145.5).sum())\n",
    "print((data['max_power_bhp'] < 21.5).sum())"
   ]
  },
  {
   "cell_type": "code",
   "execution_count": 47,
   "id": "345e1488",
   "metadata": {},
   "outputs": [
    {
     "name": "stdout",
     "output_type": "stream",
     "text": [
      "Lower limit is -140000.0 and Upper limit is 280000.0\n"
     ]
    }
   ],
   "source": [
    "IQR = data['km_driven'].quantile(0.75)-data['km_driven'].quantile(0.25)\n",
    "lower_limit=data['km_driven'].quantile(0.25)-(IQR*3)\n",
    "upper_limit=data['km_driven'].quantile(0.75)+(IQR*3)\n",
    "print('Lower limit is {} and Upper limit is {}'.format(lower_limit,upper_limit))"
   ]
  },
  {
   "cell_type": "code",
   "execution_count": 48,
   "id": "319adb23",
   "metadata": {},
   "outputs": [
    {
     "data": {
      "text/plain": [
       "32"
      ]
     },
     "execution_count": 48,
     "metadata": {},
     "output_type": "execute_result"
    }
   ],
   "source": [
    "(data['km_driven'] > 280000).sum()"
   ]
  },
  {
   "cell_type": "code",
   "execution_count": 49,
   "id": "14089497",
   "metadata": {},
   "outputs": [],
   "source": [
    "data.loc[data['km_driven']>280000,'km_driven']=280000"
   ]
  },
  {
   "cell_type": "code",
   "execution_count": 50,
   "id": "b9a59451",
   "metadata": {},
   "outputs": [
    {
     "name": "stdout",
     "output_type": "stream",
     "text": [
      "Lower limit is 1.0399999999999991 and Upper limit is 38.28\n"
     ]
    }
   ],
   "source": [
    "IQR = data['mileage_in_kmpl'].quantile(0.75)-data['mileage_in_kmpl'].quantile(0.25)\n",
    "lower_limit=data['mileage_in_kmpl'].quantile(0.25)-(IQR*3)\n",
    "upper_limit=data['mileage_in_kmpl'].quantile(0.75)+(IQR*3)\n",
    "print('Lower limit is {} and Upper limit is {}'.format(lower_limit,upper_limit))"
   ]
  },
  {
   "cell_type": "code",
   "execution_count": 51,
   "id": "d74c2725",
   "metadata": {},
   "outputs": [
    {
     "data": {
      "text/plain": [
       "8"
      ]
     },
     "execution_count": 51,
     "metadata": {},
     "output_type": "execute_result"
    }
   ],
   "source": [
    "(data['mileage_in_kmpl'] > 38.28).sum()"
   ]
  },
  {
   "cell_type": "code",
   "execution_count": 52,
   "id": "6b03cc1a",
   "metadata": {},
   "outputs": [],
   "source": [
    "data.loc[data['mileage_in_kmpl']>38.28,'mileage_in_kmpl']=38.28"
   ]
  },
  {
   "cell_type": "code",
   "execution_count": 53,
   "id": "50923496",
   "metadata": {},
   "outputs": [
    {
     "name": "stdout",
     "output_type": "stream",
     "text": [
      "Lower limit is 294.0 and Upper limit is 2401.0\n"
     ]
    }
   ],
   "source": [
    "IQR = data['engine_capacity_cc'].quantile(0.75)-data['engine_capacity_cc'].quantile(0.25)\n",
    "lower_limit=data['engine_capacity_cc'].quantile(0.25)-(IQR*3)\n",
    "upper_limit=data['engine_capacity_cc'].quantile(0.75)+(IQR*3)\n",
    "print('Lower limit is {} and Upper limit is {}'.format(lower_limit,upper_limit))"
   ]
  },
  {
   "cell_type": "code",
   "execution_count": 54,
   "id": "1545f3c1",
   "metadata": {},
   "outputs": [
    {
     "data": {
      "text/plain": [
       "575"
      ]
     },
     "execution_count": 54,
     "metadata": {},
     "output_type": "execute_result"
    }
   ],
   "source": [
    "(data['engine_capacity_cc'] > 2401.0).sum()"
   ]
  },
  {
   "cell_type": "code",
   "execution_count": 55,
   "id": "361a89b7",
   "metadata": {},
   "outputs": [
    {
     "data": {
      "text/plain": [
       "0"
      ]
     },
     "execution_count": 55,
     "metadata": {},
     "output_type": "execute_result"
    }
   ],
   "source": [
    "(data['engine_capacity_cc'] < 294.0).sum()"
   ]
  },
  {
   "cell_type": "code",
   "execution_count": 56,
   "id": "be50d3c1",
   "metadata": {},
   "outputs": [],
   "source": [
    "data.loc[data['engine_capacity_cc']>2401.0,'engine_capacity_cc']=2401.0"
   ]
  },
  {
   "cell_type": "code",
   "execution_count": 57,
   "id": "21babdd5",
   "metadata": {},
   "outputs": [
    {
     "name": "stdout",
     "output_type": "stream",
     "text": [
      "Lower limit is -13.0 and Upper limit is 29.0\n"
     ]
    }
   ],
   "source": [
    "IQR = data['car_years'].quantile(0.75)-data['car_years'].quantile(0.25)\n",
    "lower_limit=data['car_years'].quantile(0.25)-(IQR*3)\n",
    "upper_limit=data['car_years'].quantile(0.75)+(IQR*3)\n",
    "print('Lower limit is {} and Upper limit is {}'.format(lower_limit,upper_limit))"
   ]
  },
  {
   "cell_type": "code",
   "execution_count": 58,
   "id": "00cb4705",
   "metadata": {},
   "outputs": [
    {
     "data": {
      "text/plain": [
       "2"
      ]
     },
     "execution_count": 58,
     "metadata": {},
     "output_type": "execute_result"
    }
   ],
   "source": [
    "(data['car_years'] > 29.0).sum()"
   ]
  },
  {
   "cell_type": "code",
   "execution_count": 59,
   "id": "36ab9635",
   "metadata": {},
   "outputs": [],
   "source": [
    "data.loc[data['car_years']>29.0,'car_years']=29.0"
   ]
  },
  {
   "cell_type": "code",
   "execution_count": 60,
   "id": "cc0cdb18",
   "metadata": {},
   "outputs": [
    {
     "name": "stdout",
     "output_type": "stream",
     "text": [
      "Lower limit is -903500.0 and Upper limit is 1788000.0\n"
     ]
    }
   ],
   "source": [
    "IQR = data['selling_price'].quantile(0.75)-data['selling_price'].quantile(0.25)\n",
    "lower_limit=data['selling_price'].quantile(0.25)-(IQR*3)\n",
    "upper_limit=data['selling_price'].quantile(0.75)+(IQR*3)\n",
    "print('Lower limit is {} and Upper limit is {}'.format(lower_limit,upper_limit))"
   ]
  },
  {
   "cell_type": "code",
   "execution_count": 61,
   "id": "498ddac6",
   "metadata": {},
   "outputs": [
    {
     "data": {
      "text/plain": [
       "156"
      ]
     },
     "execution_count": 61,
     "metadata": {},
     "output_type": "execute_result"
    }
   ],
   "source": [
    "(data['selling_price'] > 1788000.0).sum()"
   ]
  },
  {
   "cell_type": "code",
   "execution_count": 62,
   "id": "f67180ec",
   "metadata": {},
   "outputs": [],
   "source": [
    "data.loc[data['selling_price']>1788000.0,'selling_price']=1788000.0"
   ]
  },
  {
   "cell_type": "code",
   "execution_count": 63,
   "id": "9f7e2e92",
   "metadata": {},
   "outputs": [
    {
     "data": {
      "image/png": "[encoded data removed]",
      "text/plain": [
       "<Figure size 1296x504 with 2 Axes>"
      ]
     },
     "metadata": {
      "needs_background": "light"
     },
     "output_type": "display_data"
    }
   ],
   "source": [
    "# Corelation of features\n",
    "plt.figure(figsize=(18, 7))\n",
    "corr = data.corr()\n",
    "mask = np.triu(np.ones_like(corr, dtype=bool))\n",
    "sns.heatmap(corr, annot=True, mask=mask)\n",
    "plt.show()"
   ]
  },
  {
   "cell_type": "code",
   "execution_count": 64,
   "id": "cdcd46be",
   "metadata": {},
   "outputs": [],
   "source": [
    "# categorical features in the data\n",
    "#cat_feat =data.select_dtypes(include='object')\n",
    "#cat_feat"
   ]
  },
  {
   "cell_type": "code",
   "execution_count": 65,
   "id": "465e9260",
   "metadata": {
    "scrolled": true
   },
   "outputs": [
    {
     "data": {
      "text/html": [
       "<div>\n",
       "<style scoped>\n",
       "    .dataframe tbody tr th:only-of-type {\n",
       "        vertical-align: middle;\n",
       "    }\n",
       "\n",
       "    .dataframe tbody tr th {\n",
       "        vertical-align: top;\n",
       "    }\n",
       "\n",
       "    .dataframe thead th {\n",
       "        text-align: right;\n",
       "    }\n",
       "</style>\n",
       "<table border=\"1\" class=\"dataframe\">\n",
       "  <thead>\n",
       "    <tr style=\"text-align: right;\">\n",
       "      <th></th>\n",
       "      <th>selling_price</th>\n",
       "      <th>km_driven</th>\n",
       "      <th>fuel</th>\n",
       "      <th>seller_type</th>\n",
       "      <th>transmission</th>\n",
       "      <th>owner</th>\n",
       "      <th>seats</th>\n",
       "      <th>mileage_in_kmpl</th>\n",
       "      <th>engine_capacity_cc</th>\n",
       "      <th>max_power_bhp</th>\n",
       "      <th>car_years</th>\n",
       "    </tr>\n",
       "  </thead>\n",
       "  <tbody>\n",
       "    <tr>\n",
       "      <th>0</th>\n",
       "      <td>450000</td>\n",
       "      <td>145500</td>\n",
       "      <td>0</td>\n",
       "      <td>0</td>\n",
       "      <td>0</td>\n",
       "      <td>1</td>\n",
       "      <td>5.0</td>\n",
       "      <td>23.40</td>\n",
       "      <td>1248.0</td>\n",
       "      <td>74.00</td>\n",
       "      <td>8</td>\n",
       "    </tr>\n",
       "    <tr>\n",
       "      <th>1</th>\n",
       "      <td>370000</td>\n",
       "      <td>120000</td>\n",
       "      <td>0</td>\n",
       "      <td>0</td>\n",
       "      <td>0</td>\n",
       "      <td>2</td>\n",
       "      <td>5.0</td>\n",
       "      <td>21.14</td>\n",
       "      <td>1498.0</td>\n",
       "      <td>103.52</td>\n",
       "      <td>8</td>\n",
       "    </tr>\n",
       "    <tr>\n",
       "      <th>2</th>\n",
       "      <td>158000</td>\n",
       "      <td>140000</td>\n",
       "      <td>1</td>\n",
       "      <td>0</td>\n",
       "      <td>0</td>\n",
       "      <td>3</td>\n",
       "      <td>5.0</td>\n",
       "      <td>17.70</td>\n",
       "      <td>1497.0</td>\n",
       "      <td>78.00</td>\n",
       "      <td>16</td>\n",
       "    </tr>\n",
       "    <tr>\n",
       "      <th>3</th>\n",
       "      <td>225000</td>\n",
       "      <td>127000</td>\n",
       "      <td>0</td>\n",
       "      <td>0</td>\n",
       "      <td>0</td>\n",
       "      <td>1</td>\n",
       "      <td>5.0</td>\n",
       "      <td>23.00</td>\n",
       "      <td>1396.0</td>\n",
       "      <td>90.00</td>\n",
       "      <td>12</td>\n",
       "    </tr>\n",
       "    <tr>\n",
       "      <th>4</th>\n",
       "      <td>130000</td>\n",
       "      <td>120000</td>\n",
       "      <td>1</td>\n",
       "      <td>0</td>\n",
       "      <td>0</td>\n",
       "      <td>1</td>\n",
       "      <td>5.0</td>\n",
       "      <td>16.10</td>\n",
       "      <td>1298.0</td>\n",
       "      <td>88.20</td>\n",
       "      <td>15</td>\n",
       "    </tr>\n",
       "    <tr>\n",
       "      <th>...</th>\n",
       "      <td>...</td>\n",
       "      <td>...</td>\n",
       "      <td>...</td>\n",
       "      <td>...</td>\n",
       "      <td>...</td>\n",
       "      <td>...</td>\n",
       "      <td>...</td>\n",
       "      <td>...</td>\n",
       "      <td>...</td>\n",
       "      <td>...</td>\n",
       "      <td>...</td>\n",
       "    </tr>\n",
       "    <tr>\n",
       "      <th>6902</th>\n",
       "      <td>260000</td>\n",
       "      <td>50000</td>\n",
       "      <td>1</td>\n",
       "      <td>0</td>\n",
       "      <td>0</td>\n",
       "      <td>2</td>\n",
       "      <td>5.0</td>\n",
       "      <td>18.90</td>\n",
       "      <td>998.0</td>\n",
       "      <td>67.10</td>\n",
       "      <td>9</td>\n",
       "    </tr>\n",
       "    <tr>\n",
       "      <th>6903</th>\n",
       "      <td>475000</td>\n",
       "      <td>80000</td>\n",
       "      <td>0</td>\n",
       "      <td>0</td>\n",
       "      <td>0</td>\n",
       "      <td>2</td>\n",
       "      <td>5.0</td>\n",
       "      <td>22.54</td>\n",
       "      <td>1396.0</td>\n",
       "      <td>88.73</td>\n",
       "      <td>8</td>\n",
       "    </tr>\n",
       "    <tr>\n",
       "      <th>6904</th>\n",
       "      <td>320000</td>\n",
       "      <td>110000</td>\n",
       "      <td>1</td>\n",
       "      <td>0</td>\n",
       "      <td>0</td>\n",
       "      <td>1</td>\n",
       "      <td>5.0</td>\n",
       "      <td>18.50</td>\n",
       "      <td>1197.0</td>\n",
       "      <td>82.85</td>\n",
       "      <td>9</td>\n",
       "    </tr>\n",
       "    <tr>\n",
       "      <th>6905</th>\n",
       "      <td>135000</td>\n",
       "      <td>119000</td>\n",
       "      <td>0</td>\n",
       "      <td>0</td>\n",
       "      <td>0</td>\n",
       "      <td>4</td>\n",
       "      <td>5.0</td>\n",
       "      <td>16.80</td>\n",
       "      <td>1493.0</td>\n",
       "      <td>110.00</td>\n",
       "      <td>15</td>\n",
       "    </tr>\n",
       "    <tr>\n",
       "      <th>6906</th>\n",
       "      <td>382000</td>\n",
       "      <td>120000</td>\n",
       "      <td>0</td>\n",
       "      <td>0</td>\n",
       "      <td>0</td>\n",
       "      <td>1</td>\n",
       "      <td>5.0</td>\n",
       "      <td>19.30</td>\n",
       "      <td>1248.0</td>\n",
       "      <td>73.90</td>\n",
       "      <td>13</td>\n",
       "    </tr>\n",
       "  </tbody>\n",
       "</table>\n",
       "<p>6907 rows × 11 columns</p>\n",
       "</div>"
      ],
      "text/plain": [
       "      selling_price  km_driven  fuel  seller_type  transmission  owner  seats  \\\n",
       "0            450000     145500     0            0             0      1    5.0   \n",
       "1            370000     120000     0            0             0      2    5.0   \n",
       "2            158000     140000     1            0             0      3    5.0   \n",
       "3            225000     127000     0            0             0      1    5.0   \n",
       "4            130000     120000     1            0             0      1    5.0   \n",
       "...             ...        ...   ...          ...           ...    ...    ...   \n",
       "6902         260000      50000     1            0             0      2    5.0   \n",
       "6903         475000      80000     0            0             0      2    5.0   \n",
       "6904         320000     110000     1            0             0      1    5.0   \n",
       "6905         135000     119000     0            0             0      4    5.0   \n",
       "6906         382000     120000     0            0             0      1    5.0   \n",
       "\n",
       "      mileage_in_kmpl  engine_capacity_cc  max_power_bhp  car_years  \n",
       "0               23.40              1248.0          74.00          8  \n",
       "1               21.14              1498.0         103.52          8  \n",
       "2               17.70              1497.0          78.00         16  \n",
       "3               23.00              1396.0          90.00         12  \n",
       "4               16.10              1298.0          88.20         15  \n",
       "...               ...                 ...            ...        ...  \n",
       "6902            18.90               998.0          67.10          9  \n",
       "6903            22.54              1396.0          88.73          8  \n",
       "6904            18.50              1197.0          82.85          9  \n",
       "6905            16.80              1493.0         110.00         15  \n",
       "6906            19.30              1248.0          73.90         13  \n",
       "\n",
       "[6907 rows x 11 columns]"
      ]
     },
     "execution_count": 65,
     "metadata": {},
     "output_type": "execute_result"
    }
   ],
   "source": [
    "# Numerical features in the data\n",
    "num_feat =data.select_dtypes(include='number')\n",
    "num_feat"
   ]
  },
  {
   "cell_type": "code",
   "execution_count": 66,
   "id": "47a604a4",
   "metadata": {},
   "outputs": [
    {
     "data": {
      "image/png": "[encoded data removed]",
      "text/plain": [
       "<Figure size 432x288 with 1 Axes>"
      ]
     },
     "metadata": {
      "needs_background": "light"
     },
     "output_type": "display_data"
    }
   ],
   "source": [
    "sns.scatterplot(data=data, x=\"max_power_bhp\", y=\"selling_price\");"
   ]
  },
  {
   "cell_type": "code",
   "execution_count": 67,
   "id": "74e36a07",
   "metadata": {},
   "outputs": [
    {
     "data": {
      "image/png": "[encoded data removed]",
      "text/plain": [
       "<Figure size 432x288 with 1 Axes>"
      ]
     },
     "metadata": {
      "needs_background": "light"
     },
     "output_type": "display_data"
    }
   ],
   "source": [
    " sns.scatterplot(data=data, x=\"km_driven\", y=\"selling_price\");"
   ]
  },
  {
   "cell_type": "code",
   "execution_count": 68,
   "id": "5d7bdab6",
   "metadata": {},
   "outputs": [
    {
     "data": {
      "image/png": "[encoded data removed]",
      "text/plain": [
       "<Figure size 432x288 with 1 Axes>"
      ]
     },
     "metadata": {
      "needs_background": "light"
     },
     "output_type": "display_data"
    }
   ],
   "source": [
    "sns.scatterplot(data=data, x=\"engine_capacity_cc\", y=\"selling_price\");"
   ]
  },
  {
   "cell_type": "code",
   "execution_count": 69,
   "id": "eba71553",
   "metadata": {},
   "outputs": [
    {
     "data": {
      "image/png": "[encoded data removed]",
      "text/plain": [
       "<Figure size 432x288 with 1 Axes>"
      ]
     },
     "metadata": {
      "needs_background": "light"
     },
     "output_type": "display_data"
    }
   ],
   "source": [
    "sns.scatterplot(data=data, x=\"car_years\", y=\"selling_price\");"
   ]
  },
  {
   "cell_type": "code",
   "execution_count": 70,
   "id": "efa3c8a9",
   "metadata": {},
   "outputs": [
    {
     "data": {
      "image/png": "[encoded data removed]",
      "text/plain": [
       "<Figure size 432x288 with 1 Axes>"
      ]
     },
     "metadata": {
      "needs_background": "light"
     },
     "output_type": "display_data"
    }
   ],
   "source": [
    "sns.barplot(x=\"owner\", y=\"selling_price\",data=data);"
   ]
  },
  {
   "cell_type": "code",
   "execution_count": 71,
   "id": "0a4fde43",
   "metadata": {},
   "outputs": [
    {
     "data": {
      "image/png": "[encoded data removed]",
      "text/plain": [
       "<Figure size 432x288 with 1 Axes>"
      ]
     },
     "metadata": {
      "needs_background": "light"
     },
     "output_type": "display_data"
    }
   ],
   "source": [
    "sns.barplot(x=\"transmission\", y=\"selling_price\",data=data);"
   ]
  },
  {
   "cell_type": "code",
   "execution_count": 72,
   "id": "e8c1acc1",
   "metadata": {},
   "outputs": [
    {
     "data": {
      "image/png": "[encoded data removed]",
      "text/plain": [
       "<Figure size 432x288 with 1 Axes>"
      ]
     },
     "metadata": {
      "needs_background": "light"
     },
     "output_type": "display_data"
    }
   ],
   "source": [
    "sns.barplot(x=\"seller_type\", y=\"selling_price\",data=data);"
   ]
  },
  {
   "cell_type": "code",
   "execution_count": 73,
   "id": "f3d36539",
   "metadata": {},
   "outputs": [
    {
     "data": {
      "image/png": "[encoded data removed]",
      "text/plain": [
       "<Figure size 432x288 with 1 Axes>"
      ]
     },
     "metadata": {
      "needs_background": "light"
     },
     "output_type": "display_data"
    }
   ],
   "source": [
    "sns.barplot(x=\"fuel\", y=\"selling_price\",data=data);"
   ]
  },
  {
   "cell_type": "code",
   "execution_count": 74,
   "id": "f012322f",
   "metadata": {},
   "outputs": [],
   "source": [
    "x=data.drop('selling_price',axis=1)\n",
    "y=data['selling_price']"
   ]
  },
  {
   "cell_type": "code",
   "execution_count": 139,
   "id": "39c6e436",
   "metadata": {},
   "outputs": [],
   "source": [
    "from sklearn.model_selection import train_test_split\n",
    "x_train,x_test,y_train,y_test=train_test_split(x,y,test_size=0.25)"
   ]
  },
  {
   "cell_type": "code",
   "execution_count": 140,
   "id": "4e66d64c",
   "metadata": {},
   "outputs": [],
   "source": [
    "from sklearn.linear_model import LinearRegression\n",
    "from sklearn.metrics import accuracy_score,r2_score\n",
    "from sklearn.preprocessing import OneHotEncoder\n",
    "from sklearn.compose import make_column_transformer\n",
    "from sklearn.pipeline import make_pipeline"
   ]
  },
  {
   "cell_type": "code",
   "execution_count": 141,
   "id": "11c91f53",
   "metadata": {},
   "outputs": [],
   "source": [
    "#ohe=OneHotEncoder()\n",
    "#ohe.fit(x[['fuel','seller_type','transmission','owner']])"
   ]
  },
  {
   "cell_type": "code",
   "execution_count": 142,
   "id": "975c14bb",
   "metadata": {},
   "outputs": [],
   "source": [
    "#column_trans=make_column_transformer((OneHotEncoder(categories=ohe.categories),['fuel','seller_type','transmission','owner']),remainder='passthrough')"
   ]
  },
  {
   "cell_type": "code",
   "execution_count": 143,
   "id": "a6074013",
   "metadata": {},
   "outputs": [],
   "source": [
    "model=LinearRegression()"
   ]
  },
  {
   "cell_type": "code",
   "execution_count": 144,
   "id": "b938fe4e",
   "metadata": {},
   "outputs": [],
   "source": [
    "#model=make_pipeline(column_trans,lr)"
   ]
  },
  {
   "cell_type": "code",
   "execution_count": 145,
   "id": "0e2bb82a",
   "metadata": {},
   "outputs": [
    {
     "data": {
      "text/plain": [
       "LinearRegression()"
      ]
     },
     "execution_count": 145,
     "metadata": {},
     "output_type": "execute_result"
    }
   ],
   "source": [
    "model.fit(x_train,y_train)"
   ]
  },
  {
   "cell_type": "code",
   "execution_count": 146,
   "id": "05e932a9",
   "metadata": {},
   "outputs": [
    {
     "data": {
      "text/plain": [
       "array([ 608801.77381223, 1040854.30591837,  -21703.39662336, ...,\n",
       "        573545.07363377,   90081.49367352,  535851.76431116])"
      ]
     },
     "execution_count": 146,
     "metadata": {},
     "output_type": "execute_result"
    }
   ],
   "source": [
    "y_pred=model.predict(x_test)\n",
    "y_pred"
   ]
  },
  {
   "cell_type": "code",
   "execution_count": 147,
   "id": "6e0011b4",
   "metadata": {},
   "outputs": [
    {
     "data": {
      "text/plain": [
       "array([-9.66028327e-01, -7.02311903e+04,  6.04283959e+04,  2.32462178e+05,\n",
       "       -2.47595409e+04,  1.52264004e+03,  1.04989871e+03,  1.47464965e+02,\n",
       "        5.07897160e+03, -3.21516904e+04])"
      ]
     },
     "execution_count": 147,
     "metadata": {},
     "output_type": "execute_result"
    }
   ],
   "source": [
    "model.coef_"
   ]
  },
  {
   "cell_type": "code",
   "execution_count": 148,
   "id": "529d7e25",
   "metadata": {},
   "outputs": [
    {
     "data": {
      "text/plain": [
       "206787.15140789544"
      ]
     },
     "execution_count": 148,
     "metadata": {},
     "output_type": "execute_result"
    }
   ],
   "source": [
    "model.intercept_"
   ]
  },
  {
   "cell_type": "code",
   "execution_count": 149,
   "id": "4133d816",
   "metadata": {},
   "outputs": [
    {
     "data": {
      "text/plain": [
       "0.7232202730315184"
      ]
     },
     "execution_count": 149,
     "metadata": {},
     "output_type": "execute_result"
    }
   ],
   "source": [
    "model.score(x_train,y_train)"
   ]
  },
  {
   "cell_type": "code",
   "execution_count": 150,
   "id": "f3f10181",
   "metadata": {},
   "outputs": [
    {
     "data": {
      "text/plain": [
       "0.7196531315212837"
      ]
     },
     "execution_count": 150,
     "metadata": {},
     "output_type": "execute_result"
    }
   ],
   "source": [
    "r2_score(y_test,y_pred)"
   ]
  },
  {
   "cell_type": "code",
   "execution_count": 151,
   "id": "f8cb059a",
   "metadata": {},
   "outputs": [],
   "source": [
    "scores=[]\n",
    "for i in range(1000):\n",
    "    x_train,x_test,y_train,y_test=train_test_split(x,y,test_size=0.25,random_state=i)\n",
    "    model=LinearRegression()\n",
    "    model.fit(x_train,y_train)\n",
    "    y_pred=model.predict(x_test)\n",
    "    scores.append(r2_score(y_test,y_pred))"
   ]
  },
  {
   "cell_type": "code",
   "execution_count": 152,
   "id": "2f15a20e",
   "metadata": {},
   "outputs": [
    {
     "data": {
      "text/plain": [
       "[0.7205748961770679,\n",
       " 0.7166590430673074,\n",
       " 0.7289259939347787,\n",
       " 0.7259379040845478,\n",
       " 0.73409302494465,\n",
       " 0.716992624081705,\n",
       " 0.7225431405077827,\n",
       " 0.7268178229164707,\n",
       " 0.7286376828253045,\n",
       " 0.7256136814776343,\n",
       " 0.7388130378988723,\n",
       " 0.7370809981164292,\n",
       " 0.7009863114293009,\n",
       " 0.7366004404834403,\n",
       " 0.7114976212512811,\n",
       " 0.7346422245288771,\n",
       " 0.7329882677303876,\n",
       " 0.7341696460408857,\n",
       " 0.716057530099087,\n",
       " 0.7272354558335162,\n",
       " 0.7261716154898885,\n",
       " 0.7343637406473333,\n",
       " 0.7126507867343334,\n",
       " 0.7213379434186808,\n",
       " 0.7250164512496646,\n",
       " 0.7050281871286508,\n",
       " 0.7145825611404995,\n",
       " 0.714228665167297,\n",
       " 0.7132210150120895,\n",
       " 0.717629201724647,\n",
       " 0.7141548401560764,\n",
       " 0.7294135400871171,\n",
       " 0.7195976605907312,\n",
       " 0.7385890870448883,\n",
       " 0.7181771767820546,\n",
       " 0.7241830756637335,\n",
       " 0.7115181484796205,\n",
       " 0.7113388660975237,\n",
       " 0.7035528409409091,\n",
       " 0.7345666162387923,\n",
       " 0.7311304912402954,\n",
       " 0.7316478366238328,\n",
       " 0.7070035195574587,\n",
       " 0.723918030222023,\n",
       " 0.7196471005610348,\n",
       " 0.7251486720471297,\n",
       " 0.7257303623720379,\n",
       " 0.7104798202018829,\n",
       " 0.721358061256936,\n",
       " 0.7321574720094378,\n",
       " 0.6984364354363927,\n",
       " 0.7216531464526424,\n",
       " 0.7270651639725316,\n",
       " 0.7153351705982329,\n",
       " 0.7335329502220487,\n",
       " 0.7024210375343769,\n",
       " 0.7192988283087418,\n",
       " 0.7270244032251836,\n",
       " 0.7340487811976196,\n",
       " 0.7347414169242391,\n",
       " 0.7096973903284891,\n",
       " 0.7294769439991016,\n",
       " 0.7111334103708533,\n",
       " 0.7320819903636174,\n",
       " 0.7337446907890686,\n",
       " 0.7082137832010683,\n",
       " 0.720040560295935,\n",
       " 0.723253585528497,\n",
       " 0.7209958369288052,\n",
       " 0.7173476294363694,\n",
       " 0.7157183960393972,\n",
       " 0.7163339866875045,\n",
       " 0.7041092721329063,\n",
       " 0.7126185674450827,\n",
       " 0.7177394029175583,\n",
       " 0.7175067863310658,\n",
       " 0.7203773453396403,\n",
       " 0.7255123974555591,\n",
       " 0.7156231877648296,\n",
       " 0.7346317548595698,\n",
       " 0.7111461250054957,\n",
       " 0.7195688517837279,\n",
       " 0.7446127659062423,\n",
       " 0.7080869525901531,\n",
       " 0.7135590699116328,\n",
       " 0.69776471469843,\n",
       " 0.7208592047216074,\n",
       " 0.7108000459595154,\n",
       " 0.7165478458433094,\n",
       " 0.7285398330820128,\n",
       " 0.7198132691935513,\n",
       " 0.7129559584865568,\n",
       " 0.727649229466996,\n",
       " 0.7126231012423914,\n",
       " 0.7141032722656255,\n",
       " 0.7356065115975664,\n",
       " 0.7229464668014334,\n",
       " 0.723287781057683,\n",
       " 0.7208094014147982,\n",
       " 0.7361088387733041,\n",
       " 0.7013220422221045,\n",
       " 0.7109996614866223,\n",
       " 0.7166523063798897,\n",
       " 0.7472076853803853,\n",
       " 0.7343154913209327,\n",
       " 0.7344781677427368,\n",
       " 0.7137878343630923,\n",
       " 0.7216062190714883,\n",
       " 0.7145636174422273,\n",
       " 0.7341562623225103,\n",
       " 0.709542621867377,\n",
       " 0.7074296308328516,\n",
       " 0.7129455770499875,\n",
       " 0.7167163171185296,\n",
       " 0.7117178114140923,\n",
       " 0.7374055851956927,\n",
       " 0.707564977935129,\n",
       " 0.7291125771588625,\n",
       " 0.7249346358278482,\n",
       " 0.7047611247568295,\n",
       " 0.7143004910987776,\n",
       " 0.7312756916273893,\n",
       " 0.7326962597946702,\n",
       " 0.7153201602877937,\n",
       " 0.7069342610094947,\n",
       " 0.6792920432894027,\n",
       " 0.7194982732065552,\n",
       " 0.7265919111344361,\n",
       " 0.7323108602432868,\n",
       " 0.7357824995444429,\n",
       " 0.7243700042724206,\n",
       " 0.7155346087013785,\n",
       " 0.7071678039587997,\n",
       " 0.7122797455332475,\n",
       " 0.7283044680915356,\n",
       " 0.7182782343466533,\n",
       " 0.7058290354129795,\n",
       " 0.7220590677551075,\n",
       " 0.7273546258544482,\n",
       " 0.7173950442153086,\n",
       " 0.7176514059566435,\n",
       " 0.7091608535421201,\n",
       " 0.7189143666540342,\n",
       " 0.7106325221465615,\n",
       " 0.7388091695637083,\n",
       " 0.7272223516423706,\n",
       " 0.7356798608102891,\n",
       " 0.7225278624784551,\n",
       " 0.7333715530159273,\n",
       " 0.7245312774336006,\n",
       " 0.7198182161096542,\n",
       " 0.7376228594534351,\n",
       " 0.7185407881009503,\n",
       " 0.7189340030481195,\n",
       " 0.7283830401074798,\n",
       " 0.7256967018811593,\n",
       " 0.7219080482635716,\n",
       " 0.7255282717287659,\n",
       " 0.7047147345532605,\n",
       " 0.6913984157821359,\n",
       " 0.726460745456829,\n",
       " 0.7200498229432852,\n",
       " 0.683711144684173,\n",
       " 0.7162573090117543,\n",
       " 0.7175655140572144,\n",
       " 0.7192498275902998,\n",
       " 0.7150786186419518,\n",
       " 0.7214074326291873,\n",
       " 0.7094777161811456,\n",
       " 0.7104226937667054,\n",
       " 0.7370296036925535,\n",
       " 0.7139881497110827,\n",
       " 0.7151612791346518,\n",
       " 0.720687753898537,\n",
       " 0.7150479620441812,\n",
       " 0.731528089442879,\n",
       " 0.7094357453363053,\n",
       " 0.7178253655738809,\n",
       " 0.7192031073345291,\n",
       " 0.7265485180963054,\n",
       " 0.7242578309881607,\n",
       " 0.727517232873232,\n",
       " 0.7264970266115915,\n",
       " 0.7387074634514756,\n",
       " 0.7151283921379933,\n",
       " 0.709924075160937,\n",
       " 0.7336593228689879,\n",
       " 0.7087452392857639,\n",
       " 0.6985539818597551,\n",
       " 0.7207744019671989,\n",
       " 0.728958368985747,\n",
       " 0.7298352702687667,\n",
       " 0.7377083953824859,\n",
       " 0.705797859281736,\n",
       " 0.6945667288746391,\n",
       " 0.7171799511768195,\n",
       " 0.7193583944611159,\n",
       " 0.7233181338641193,\n",
       " 0.7007806370929355,\n",
       " 0.6995082171325755,\n",
       " 0.716476787316715,\n",
       " 0.7215568557847835,\n",
       " 0.733315396180263,\n",
       " 0.7222564470111925,\n",
       " 0.7331119950779117,\n",
       " 0.7388153453752242,\n",
       " 0.6938103110922964,\n",
       " 0.7189978354860598,\n",
       " 0.7104596076444973,\n",
       " 0.7055377743282394,\n",
       " 0.724897978244776,\n",
       " 0.7258764089166323,\n",
       " 0.7153515784858344,\n",
       " 0.7346761860866968,\n",
       " 0.7095171196480874,\n",
       " 0.7382822521163408,\n",
       " 0.7221132199887941,\n",
       " 0.7118254071219656,\n",
       " 0.7181442246507233,\n",
       " 0.7111164387292535,\n",
       " 0.7216984769603074,\n",
       " 0.7279292136739735,\n",
       " 0.7172796291225368,\n",
       " 0.7121798851772645,\n",
       " 0.7116536129752871,\n",
       " 0.7271960935916508,\n",
       " 0.7220762617539196,\n",
       " 0.7332101911995554,\n",
       " 0.7101860783451267,\n",
       " 0.7395174196291172,\n",
       " 0.725690520360075,\n",
       " 0.7226829442608964,\n",
       " 0.7127142157771875,\n",
       " 0.7181314571702926,\n",
       " 0.7224215148246486,\n",
       " 0.714973668219868,\n",
       " 0.7169861518883287,\n",
       " 0.7025636196246193,\n",
       " 0.7233749552967534,\n",
       " 0.7473063229677126,\n",
       " 0.7084835102254332,\n",
       " 0.746178527332496,\n",
       " 0.7176470533877697,\n",
       " 0.719061020751413,\n",
       " 0.7145928577657081,\n",
       " 0.7301818814819689,\n",
       " 0.7072890462443888,\n",
       " 0.7090434714183702,\n",
       " 0.7256863070348633,\n",
       " 0.7028304621680104,\n",
       " 0.7118358649632741,\n",
       " 0.7217459902203078,\n",
       " 0.7277865340146581,\n",
       " 0.7124010564475343,\n",
       " 0.7397336203063775,\n",
       " 0.7182638324402477,\n",
       " 0.733464620930345,\n",
       " 0.718190828456501,\n",
       " 0.7319302970743842,\n",
       " 0.7058349554692742,\n",
       " 0.7427182799401733,\n",
       " 0.7247968980835365,\n",
       " 0.708933980329454,\n",
       " 0.7179261770989327,\n",
       " 0.7239107582141706,\n",
       " 0.7192469288604302,\n",
       " 0.7245276455457421,\n",
       " 0.7315630477793407,\n",
       " 0.7165764968642435,\n",
       " 0.6954406984964965,\n",
       " 0.7337794547322498,\n",
       " 0.7147125971590002,\n",
       " 0.741073717604342,\n",
       " 0.7158618199745898,\n",
       " 0.7416075144260342,\n",
       " 0.714200767006256,\n",
       " 0.7377567110791934,\n",
       " 0.7380862967348376,\n",
       " 0.7357691385199332,\n",
       " 0.7184023376487269,\n",
       " 0.7170491263059229,\n",
       " 0.7205013169398427,\n",
       " 0.7159141363027809,\n",
       " 0.7125401699563829,\n",
       " 0.7257373908336954,\n",
       " 0.7363316303683751,\n",
       " 0.7348834230116479,\n",
       " 0.7271300656309947,\n",
       " 0.7110358088597604,\n",
       " 0.6992456250246554,\n",
       " 0.7128745998542345,\n",
       " 0.7203985153951251,\n",
       " 0.7127251357975584,\n",
       " 0.7321449912783007,\n",
       " 0.7305290612030162,\n",
       " 0.7183957660607219,\n",
       " 0.7140172638199629,\n",
       " 0.7082843918982173,\n",
       " 0.7085741557760363,\n",
       " 0.7224377171288636,\n",
       " 0.7261899171376867,\n",
       " 0.7051329974956131,\n",
       " 0.7115218779126601,\n",
       " 0.738665979645954,\n",
       " 0.7209318171648251,\n",
       " 0.7203842505726787,\n",
       " 0.738339940264412,\n",
       " 0.7120015989495405,\n",
       " 0.7203799374738038,\n",
       " 0.7225157512575511,\n",
       " 0.7104730200415093,\n",
       " 0.7046356250573973,\n",
       " 0.7311894265476658,\n",
       " 0.7039193208460908,\n",
       " 0.7088160062924088,\n",
       " 0.7336612648553718,\n",
       " 0.7354361501171328,\n",
       " 0.7158086747019101,\n",
       " 0.7091883190724133,\n",
       " 0.7094703789511405,\n",
       " 0.7363132411433921,\n",
       " 0.7186672066948783,\n",
       " 0.7240780779933893,\n",
       " 0.7214737780479343,\n",
       " 0.7047881521949206,\n",
       " 0.7289590362056155,\n",
       " 0.6993903473365417,\n",
       " 0.7255773124888028,\n",
       " 0.7365395731304898,\n",
       " 0.7024999257979225,\n",
       " 0.7207312425090312,\n",
       " 0.7144913712596237,\n",
       " 0.7174192572876772,\n",
       " 0.7276809333479267,\n",
       " 0.7144448265285027,\n",
       " 0.7380408317843323,\n",
       " 0.712064366325841,\n",
       " 0.7359989464431878,\n",
       " 0.7006797205987428,\n",
       " 0.722982168483857,\n",
       " 0.7311273312792097,\n",
       " 0.7207124565467417,\n",
       " 0.7271881339328764,\n",
       " 0.7251607516124172,\n",
       " 0.7231081172965901,\n",
       " 0.7203765880476138,\n",
       " 0.7268387626241944,\n",
       " 0.7482728033715516,\n",
       " 0.7287912733658835,\n",
       " 0.7289557546672898,\n",
       " 0.7313822592590083,\n",
       " 0.7315831325073909,\n",
       " 0.7132508444992698,\n",
       " 0.730568632637131,\n",
       " 0.7194421202543244,\n",
       " 0.7248303602988786,\n",
       " 0.7186196606870973,\n",
       " 0.7227564907948356,\n",
       " 0.716205540429639,\n",
       " 0.7435681674341247,\n",
       " 0.7091887868550258,\n",
       " 0.7297833295550318,\n",
       " 0.7047678186057864,\n",
       " 0.7079415869435449,\n",
       " 0.7075445385089827,\n",
       " 0.7085773654313519,\n",
       " 0.7220675364035083,\n",
       " 0.7195953770097554,\n",
       " 0.7239466622299533,\n",
       " 0.7210057158051784,\n",
       " 0.7140561030741414,\n",
       " 0.7210686244219675,\n",
       " 0.7149208972463778,\n",
       " 0.7213640103204242,\n",
       " 0.7282676805997838,\n",
       " 0.7328228373129835,\n",
       " 0.719369475438665,\n",
       " 0.7253087638224491,\n",
       " 0.7220548530209476,\n",
       " 0.722242885346704,\n",
       " 0.7302572729783856,\n",
       " 0.7298662847792872,\n",
       " 0.7174542687557455,\n",
       " 0.7175598388219955,\n",
       " 0.7097839027577082,\n",
       " 0.715323812349089,\n",
       " 0.7098950148432613,\n",
       " 0.7082686446209019,\n",
       " 0.7243448562511927,\n",
       " 0.7182130052282414,\n",
       " 0.729484334029572,\n",
       " 0.7291703769083979,\n",
       " 0.7281808803718155,\n",
       " 0.7397380449422177,\n",
       " 0.7269347701710726,\n",
       " 0.7338184134980825,\n",
       " 0.7228143268182368,\n",
       " 0.7155220158768694,\n",
       " 0.7298482516182292,\n",
       " 0.7177949480239734,\n",
       " 0.7207962703585331,\n",
       " 0.7359467825215038,\n",
       " 0.7182955260165633,\n",
       " 0.7251917499422514,\n",
       " 0.7254802933971469,\n",
       " 0.7169197496662651,\n",
       " 0.7243731198549435,\n",
       " 0.7060183165276215,\n",
       " 0.7075495696905183,\n",
       " 0.7230413507267788,\n",
       " 0.7235513831293663,\n",
       " 0.7190343374654438,\n",
       " 0.7192302906066647,\n",
       " 0.7135114076392606,\n",
       " 0.715461173205403,\n",
       " 0.7269349435103545,\n",
       " 0.7272917792329793,\n",
       " 0.7242450149672166,\n",
       " 0.7447848378993405,\n",
       " 0.7220313786614945,\n",
       " 0.7264669835813757,\n",
       " 0.723758102355636,\n",
       " 0.7242560668432381,\n",
       " 0.7160096765739208,\n",
       " 0.7140847289934198,\n",
       " 0.7450447465817778,\n",
       " 0.7211733305997563,\n",
       " 0.7182036481116254,\n",
       " 0.7040935914409303,\n",
       " 0.7261473913333973,\n",
       " 0.7102150045975444,\n",
       " 0.7197650573894412,\n",
       " 0.7222892355744558,\n",
       " 0.7215253361339408,\n",
       " 0.7046540011597147,\n",
       " 0.7253675886208615,\n",
       " 0.7111285224028312,\n",
       " 0.7373259211996659,\n",
       " 0.7286292169567068,\n",
       " 0.7089236096796394,\n",
       " 0.7120724737765673,\n",
       " 0.7299434630288284,\n",
       " 0.7293987373798858,\n",
       " 0.7277556252124281,\n",
       " 0.7289484618257072,\n",
       " 0.7220461059542456,\n",
       " 0.7091678026402912,\n",
       " 0.6919671447294491,\n",
       " 0.703478035616683,\n",
       " 0.717475723622849,\n",
       " 0.7240705754027492,\n",
       " 0.7221559168650942,\n",
       " 0.7245458372833327,\n",
       " 0.7056392718193076,\n",
       " 0.7352351514786561,\n",
       " 0.7029606808861986,\n",
       " 0.7188344154730931,\n",
       " 0.7159103969886068,\n",
       " 0.7300005793312729,\n",
       " 0.7379546364605978,\n",
       " 0.7150616466896462,\n",
       " 0.7245965365417855,\n",
       " 0.7289333920919607,\n",
       " 0.724811532497736,\n",
       " 0.6993692667901958,\n",
       " 0.7056909821237314,\n",
       " 0.6958071759949975,\n",
       " 0.7163586981069672,\n",
       " 0.734242299824256,\n",
       " 0.7127943841466884,\n",
       " 0.730482353115118,\n",
       " 0.7266620972013739,\n",
       " 0.7152478192949969,\n",
       " 0.7277483543350088,\n",
       " 0.7178224443629597,\n",
       " 0.720980760449326,\n",
       " 0.7271233497170337,\n",
       " 0.7146861338435861,\n",
       " 0.7212735511317327,\n",
       " 0.7129738633733594,\n",
       " 0.7185197503543721,\n",
       " 0.6994875829193923,\n",
       " 0.7419050658541742,\n",
       " 0.7246885687741784,\n",
       " 0.7314124191943365,\n",
       " 0.7102940865755383,\n",
       " 0.7074784876903151,\n",
       " 0.7345281073920618,\n",
       " 0.7233229384061457,\n",
       " 0.7376605883161429,\n",
       " 0.7379558139458886,\n",
       " 0.7118969831899529,\n",
       " 0.7376135987793584,\n",
       " 0.7142277678053606,\n",
       " 0.7197685131683996,\n",
       " 0.7372167098849478,\n",
       " 0.7216922493381903,\n",
       " 0.7088601920615571,\n",
       " 0.7057649567492024,\n",
       " 0.7435042839617905,\n",
       " 0.6776531937176126,\n",
       " 0.7178668294350092,\n",
       " 0.7244305870315444,\n",
       " 0.7279502251050494,\n",
       " 0.7124024907175213,\n",
       " 0.7242414650670455,\n",
       " 0.7173910362739658,\n",
       " 0.7111750106000226,\n",
       " 0.7130571864076443,\n",
       " 0.7355282843607273,\n",
       " 0.6982569524513261,\n",
       " 0.6821338440990501,\n",
       " 0.7413484856235395,\n",
       " 0.6968827032975933,\n",
       " 0.7156620998349267,\n",
       " 0.737952254807394,\n",
       " 0.7387388819200371,\n",
       " 0.7447757543359987,\n",
       " 0.7069347519356359,\n",
       " 0.7101372423558077,\n",
       " 0.7241225834118343,\n",
       " 0.7391783314734439,\n",
       " 0.7196368032229117,\n",
       " 0.7268628899116496,\n",
       " 0.728592126873775,\n",
       " 0.7137255494726944,\n",
       " 0.7115506869404933,\n",
       " 0.7174870655311658,\n",
       " 0.7261613407852155,\n",
       " 0.7235835211646438,\n",
       " 0.7166514196407187,\n",
       " 0.7266998399356915,\n",
       " 0.7171517745815552,\n",
       " 0.7159000047417463,\n",
       " 0.7338001477180607,\n",
       " 0.71273451788956,\n",
       " 0.7287375324913119,\n",
       " 0.7264997821344783,\n",
       " 0.7350080293311823,\n",
       " 0.7211481328062067,\n",
       " 0.7081099080295563,\n",
       " 0.7174285708474892,\n",
       " 0.7322584067553255,\n",
       " 0.7293929799600947,\n",
       " 0.7218453869385434,\n",
       " 0.7200456208505406,\n",
       " 0.7107940207172514,\n",
       " 0.7177229885416943,\n",
       " 0.7283669574767011,\n",
       " 0.7056512466927969,\n",
       " 0.7176691278102794,\n",
       " 0.7187819038141907,\n",
       " 0.7326202666249657,\n",
       " 0.7128843488987298,\n",
       " 0.7209791836987234,\n",
       " 0.7214523681068807,\n",
       " 0.7371542298732069,\n",
       " 0.7010220203471673,\n",
       " 0.7146257325753662,\n",
       " 0.7263591048959372,\n",
       " 0.7205076727893664,\n",
       " 0.7263231527167064,\n",
       " 0.7167511250515528,\n",
       " 0.7189340823219279,\n",
       " 0.7281834115461447,\n",
       " 0.728856980379999,\n",
       " 0.7141834076741302,\n",
       " 0.7359416012345167,\n",
       " 0.7312272502372701,\n",
       " 0.7174988346108497,\n",
       " 0.7045097496211645,\n",
       " 0.7408710990776535,\n",
       " 0.7235201970067691,\n",
       " 0.7218474677669287,\n",
       " 0.7204297352991764,\n",
       " 0.7335365498489951,\n",
       " 0.7367199027516285,\n",
       " 0.7171621578303051,\n",
       " 0.7318266651195295,\n",
       " 0.7224768904373414,\n",
       " 0.739138712628678,\n",
       " 0.7119898172450183,\n",
       " 0.7105383015961603,\n",
       " 0.711188680727512,\n",
       " 0.7080709508175569,\n",
       " 0.7093272252712648,\n",
       " 0.7166214165586147,\n",
       " 0.7179709567490483,\n",
       " 0.7201237086363418,\n",
       " 0.7330554549506278,\n",
       " 0.7085142612504256,\n",
       " 0.7247652012759211,\n",
       " 0.7273420728314071,\n",
       " 0.7252512614134727,\n",
       " 0.718200750362167,\n",
       " 0.7120412723193758,\n",
       " 0.7317504139509087,\n",
       " 0.7257522755752399,\n",
       " 0.7138377717887328,\n",
       " 0.7020448448269376,\n",
       " 0.734391168975546,\n",
       " 0.7156803799051238,\n",
       " 0.7330876323822301,\n",
       " 0.732695284307527,\n",
       " 0.7136183605571622,\n",
       " 0.7343368527698908,\n",
       " 0.7237471038168892,\n",
       " 0.7170379499250898,\n",
       " 0.7276525171117917,\n",
       " 0.7046966115840853,\n",
       " 0.7220605698973335,\n",
       " 0.7268991270735923,\n",
       " 0.7239258068112687,\n",
       " 0.7335917947271183,\n",
       " 0.7192337887196654,\n",
       " 0.7358612129872426,\n",
       " 0.721053831085775,\n",
       " 0.7153300022445142,\n",
       " 0.7067238044529047,\n",
       " 0.717199025225328,\n",
       " 0.7229906898323855,\n",
       " 0.7214913382998892,\n",
       " 0.7185994456115465,\n",
       " 0.7336731618434433,\n",
       " 0.7258784202203102,\n",
       " 0.7214751668218784,\n",
       " 0.7261902673170504,\n",
       " 0.7176518824976887,\n",
       " 0.7152981794459337,\n",
       " 0.715357141830566,\n",
       " 0.7166966706915867,\n",
       " 0.7208734209884493,\n",
       " 0.7371328097402312,\n",
       " 0.7222239163909554,\n",
       " 0.7260810095717023,\n",
       " 0.7133411292690487,\n",
       " 0.7262197528540255,\n",
       " 0.7381968057994548,\n",
       " 0.7324161643309828,\n",
       " 0.7321013836619303,\n",
       " 0.7118744807699603,\n",
       " 0.7041716346551168,\n",
       " 0.7191180677502718,\n",
       " 0.7058056391038325,\n",
       " 0.7103813937197506,\n",
       " 0.7219231840178506,\n",
       " 0.7403237969186537,\n",
       " 0.7299006640910797,\n",
       " 0.719568659189147,\n",
       " 0.729872094438319,\n",
       " 0.7170933423681611,\n",
       " 0.6894063444332725,\n",
       " 0.7110290371607355,\n",
       " 0.7260589138556819,\n",
       " 0.7490935783235072,\n",
       " 0.7151101016223486,\n",
       " 0.713456821234443,\n",
       " 0.7166014670530161,\n",
       " 0.7187688390178615,\n",
       " 0.7242879812814911,\n",
       " 0.7204765826201313,\n",
       " 0.7180206525660404,\n",
       " 0.7083150031701362,\n",
       " 0.7117576276162508,\n",
       " 0.7281377822273531,\n",
       " 0.7295848886741689,\n",
       " 0.7060090701848989,\n",
       " 0.709680949810845,\n",
       " 0.714967881635385,\n",
       " 0.7050633068301875,\n",
       " 0.7318311069689221,\n",
       " 0.7256384064169961,\n",
       " 0.7261309910920095,\n",
       " 0.730262027421024,\n",
       " 0.7236899344933219,\n",
       " 0.715703785801221,\n",
       " 0.7380851345912449,\n",
       " 0.7162281599668847,\n",
       " 0.7144777074406664,\n",
       " 0.7278843434631475,\n",
       " 0.7256519924117681,\n",
       " 0.7163465419410184,\n",
       " 0.7251563214795318,\n",
       " 0.7091125828937717,\n",
       " 0.7291503175241948,\n",
       " 0.6976735546506025,\n",
       " 0.7340690656636734,\n",
       " 0.7140017421350344,\n",
       " 0.7142306728984475,\n",
       " 0.708662841244124,\n",
       " 0.7356693201123341,\n",
       " 0.731304429091388,\n",
       " 0.7143489166375968,\n",
       " 0.7177215533914438,\n",
       " 0.7068527058629634,\n",
       " 0.7141383281664846,\n",
       " 0.7411001462849702,\n",
       " 0.7319827309532326,\n",
       " 0.717040036427651,\n",
       " 0.7286281424119847,\n",
       " 0.7353027150695859,\n",
       " 0.7371070267225374,\n",
       " 0.7181504030802092,\n",
       " 0.7219885582352945,\n",
       " 0.7198920986642783,\n",
       " 0.7160133894049243,\n",
       " 0.7224457288950015,\n",
       " 0.7116209959942535,\n",
       " 0.7005256295712836,\n",
       " 0.7175314577725944,\n",
       " 0.7289021985141741,\n",
       " 0.7385782603039268,\n",
       " 0.7119068368454476,\n",
       " 0.7120544205558054,\n",
       " 0.7170447258803734,\n",
       " 0.7354176551866762,\n",
       " 0.7226995650223104,\n",
       " 0.7317258874468686,\n",
       " 0.7398822069870263,\n",
       " 0.7058437413819818,\n",
       " 0.7091387163971885,\n",
       " 0.7325166584942472,\n",
       " 0.7176982972669758,\n",
       " 0.7041716765476653,\n",
       " 0.7283816444941245,\n",
       " 0.7219796097185434,\n",
       " 0.7175863908671156,\n",
       " 0.713374343239854,\n",
       " 0.6982596087996147,\n",
       " 0.7274730458037291,\n",
       " 0.7180180942506013,\n",
       " 0.7034253150265202,\n",
       " 0.7277987371477415,\n",
       " 0.7197361626140846,\n",
       " 0.7165372141338554,\n",
       " 0.7356093399489554,\n",
       " 0.7080441155963957,\n",
       " 0.7244063593407684,\n",
       " 0.706883691354063,\n",
       " 0.6953412281925898,\n",
       " 0.7252061059138587,\n",
       " 0.7407314003330379,\n",
       " 0.7107661846237195,\n",
       " 0.7187137563231079,\n",
       " 0.7139235080969395,\n",
       " 0.709933778666049,\n",
       " 0.7101821042911918,\n",
       " 0.727371160322531,\n",
       " 0.6989507639200774,\n",
       " 0.7245742040822655,\n",
       " 0.7290672833009852,\n",
       " 0.7152920461709907,\n",
       " 0.726724540180643,\n",
       " 0.7139502413699237,\n",
       " 0.7248083845550237,\n",
       " 0.7273003079775548,\n",
       " 0.7207910839877517,\n",
       " 0.7221936288550911,\n",
       " 0.7286135008105468,\n",
       " 0.704796739540114,\n",
       " 0.7237812885771322,\n",
       " 0.7298231237016937,\n",
       " 0.7196605560178377,\n",
       " 0.7270501810689297,\n",
       " 0.7344216560987651,\n",
       " 0.7285275507703367,\n",
       " 0.7201966650379938,\n",
       " 0.7278045152403851,\n",
       " 0.7125703175749443,\n",
       " 0.6926678794952938,\n",
       " 0.7224874727622883,\n",
       " 0.7340347640895348,\n",
       " 0.7166915788901831,\n",
       " 0.7240329824555318,\n",
       " 0.71205328852218,\n",
       " 0.7105116572958832,\n",
       " 0.7255648476176362,\n",
       " 0.723169236769386,\n",
       " 0.7220182977178982,\n",
       " 0.7247982025401839,\n",
       " 0.713254260884828,\n",
       " 0.7040377051596177,\n",
       " 0.723921472624117,\n",
       " 0.7185429341075994,\n",
       " 0.7234466177469941,\n",
       " 0.7404346544368212,\n",
       " 0.7312960777241115,\n",
       " 0.7095021230054923,\n",
       " 0.7164231459394445,\n",
       " 0.7300210275541674,\n",
       " 0.7203067332103735,\n",
       " 0.7185101309035578,\n",
       " 0.732292878537143,\n",
       " 0.6956967960822846,\n",
       " 0.7178502385477902,\n",
       " 0.7240520822445735,\n",
       " 0.706868249493199,\n",
       " 0.7280311986637038,\n",
       " 0.722480260921606,\n",
       " 0.7192685333516393,\n",
       " 0.731243252541335,\n",
       " 0.721481050207244,\n",
       " 0.7251246109345398,\n",
       " 0.7286953853345881,\n",
       " 0.7342390419765145,\n",
       " 0.726145697563777,\n",
       " 0.7200367573737827,\n",
       " 0.704210842209198,\n",
       " 0.7332717421067385,\n",
       " 0.7329102501772606,\n",
       " 0.7280703381764334,\n",
       " 0.7252652869625884,\n",
       " 0.7239387852450747,\n",
       " 0.7213154537198865,\n",
       " 0.7243520335067382,\n",
       " 0.7166755835782328,\n",
       " 0.7349528504657322,\n",
       " 0.7336169165568727,\n",
       " 0.7193879151056305,\n",
       " 0.712915252052629,\n",
       " 0.7100071344036485,\n",
       " 0.7159714774707147,\n",
       " 0.6946183131910468,\n",
       " 0.7215648790637662,\n",
       " 0.7092812181064176,\n",
       " 0.725831533787612,\n",
       " 0.7346076917166393,\n",
       " 0.7171337166158489,\n",
       " 0.7157551233634631,\n",
       " 0.733445512616924,\n",
       " 0.7235007844022099,\n",
       " 0.7173203569611613,\n",
       " 0.7160949319086143,\n",
       " 0.7097497764288963,\n",
       " 0.7293874200300257,\n",
       " 0.7249247671612489,\n",
       " 0.7343531504473211,\n",
       " 0.7134460613687068,\n",
       " 0.7312785636638358,\n",
       " 0.7210826840884683,\n",
       " 0.7234391246605356,\n",
       " 0.7300307275809201,\n",
       " 0.7180244540054326,\n",
       " 0.731253762145232,\n",
       " 0.7183048725739172,\n",
       " 0.7103729644660386,\n",
       " 0.7240267152952511,\n",
       " 0.7366041591762825,\n",
       " 0.7286264958544357,\n",
       " 0.7163468365778353,\n",
       " 0.6983543618234997,\n",
       " 0.7190168271906786,\n",
       " 0.7296906014262592,\n",
       " 0.721014104028211,\n",
       " 0.721955236226614,\n",
       " 0.7135148780951366,\n",
       " 0.734468080800207,\n",
       " 0.7178033073584524,\n",
       " 0.7173924304304844,\n",
       " 0.6942894028244754,\n",
       " 0.7338921907519156,\n",
       " 0.7343854612947538,\n",
       " 0.7271630502102757,\n",
       " 0.7197466195541014,\n",
       " 0.6900748471990021,\n",
       " 0.7117055814364013,\n",
       " 0.7211012263637657,\n",
       " 0.7146984641323685,\n",
       " 0.7133047861204471,\n",
       " 0.7205382381269172,\n",
       " 0.7351624325053625,\n",
       " 0.7200822188169748,\n",
       " 0.7400173083278969,\n",
       " 0.7220643895992642,\n",
       " 0.7430386986485689,\n",
       " 0.7165388127052705,\n",
       " 0.7144868628464028,\n",
       " 0.7029294339864365,\n",
       " 0.7090961369779369,\n",
       " 0.7191302598212085,\n",
       " 0.7383905519177457,\n",
       " 0.7165583759493512,\n",
       " 0.7381777197427329,\n",
       " 0.7123746892752214,\n",
       " 0.7211723341285181,\n",
       " 0.7200203670148704,\n",
       " 0.7156146033635934,\n",
       " 0.7236529946378549,\n",
       " 0.7130392750796422,\n",
       " 0.7068116110650262,\n",
       " 0.7145055440611439,\n",
       " 0.7051535515491376,\n",
       " 0.7105871015859007,\n",
       " 0.7293495421359035,\n",
       " 0.7111044449418491,\n",
       " 0.7177869479982071,\n",
       " 0.7048977709378266,\n",
       " 0.7194037619836207,\n",
       " 0.7313971597006448,\n",
       " 0.7277723387235031,\n",
       " 0.7452521587819319,\n",
       " 0.6945595307878463,\n",
       " 0.7117220444029273,\n",
       " 0.7189412260988419,\n",
       " 0.7267022141861079,\n",
       " 0.7247030572874744,\n",
       " 0.7193641138035589,\n",
       " 0.7175141433790426,\n",
       " 0.7188173759266647,\n",
       " 0.7260642282592926,\n",
       " 0.7026898447888779,\n",
       " 0.7183792784760895,\n",
       " 0.7014756253979818,\n",
       " 0.724772551624419,\n",
       " 0.6952101382339797,\n",
       " 0.7345848807541966,\n",
       " 0.7226533277820599,\n",
       " 0.7021205813882994,\n",
       " 0.7237673298749531,\n",
       " 0.7247579783178357,\n",
       " 0.7045010638781051,\n",
       " 0.7191276048761549,\n",
       " 0.711398904176386,\n",
       " 0.7101190249593303,\n",
       " 0.7334022500127213,\n",
       " 0.7453115531576284,\n",
       " 0.7020848418703136,\n",
       " 0.7128763977214018,\n",
       " 0.7343534968906784,\n",
       " 0.7126772249239643,\n",
       " 0.7292565087987879,\n",
       " 0.7138378592720431,\n",
       " 0.7229455041581121,\n",
       " 0.7318450674251717,\n",
       " 0.7327121509820866,\n",
       " 0.7108681574583284,\n",
       " 0.7134479076216107,\n",
       " 0.7280820827606018,\n",
       " 0.726496965052267,\n",
       " 0.7341214644223257,\n",
       " 0.708061946973892,\n",
       " 0.6894279236431053,\n",
       " 0.7258520838730231,\n",
       " 0.7070372490178443,\n",
       " 0.7167558659585601,\n",
       " 0.7106001708590006,\n",
       " 0.7243230291488045,\n",
       " 0.7180504089366083,\n",
       " 0.7255570435616052,\n",
       " 0.7206311846307181,\n",
       " 0.7184717514646461,\n",
       " 0.7152071617958613,\n",
       " 0.7195332751513408,\n",
       " 0.7191788288312173,\n",
       " 0.7082169055735996,\n",
       " 0.7040345742925134,\n",
       " 0.7239040832674137,\n",
       " 0.7034442572398991,\n",
       " 0.7241590413528173,\n",
       " 0.7211643150896541,\n",
       " 0.7223436560894702,\n",
       " 0.7326800129461963,\n",
       " 0.7325985019538108,\n",
       " 0.7174081291024725,\n",
       " 0.7330446558048325,\n",
       " 0.6997360987620047,\n",
       " 0.7029474704015107,\n",
       " 0.7235261538590793,\n",
       " 0.7363030205270995,\n",
       " 0.7354173827907027,\n",
       " 0.7299783085542826,\n",
       " 0.714324974799741,\n",
       " 0.7268256379585356,\n",
       " 0.7197749022638602,\n",
       " 0.7356357398924688,\n",
       " 0.7214586223760573,\n",
       " 0.7233674796089755,\n",
       " 0.7186358229368015,\n",
       " 0.7300481189569379,\n",
       " 0.7240391339587919,\n",
       " 0.7111703881225238,\n",
       " 0.7277404990658507,\n",
       " 0.7238257645261774,\n",
       " 0.7036385508654708,\n",
       " 0.7306408932823588,\n",
       " 0.7123923203259055,\n",
       " 0.7101850169560675,\n",
       " 0.7260349540916137,\n",
       " 0.7136426492789538,\n",
       " 0.7096286357479717,\n",
       " 0.7115305873820663,\n",
       " 0.7513423961630701,\n",
       " 0.703194872865974,\n",
       " 0.7280100585669603,\n",
       " 0.7190413814095233,\n",
       " 0.7132306042428649,\n",
       " 0.7274269090202583,\n",
       " 0.7224234886141762,\n",
       " 0.7233742124875051,\n",
       " 0.7408651522137757]"
      ]
     },
     "execution_count": 152,
     "metadata": {},
     "output_type": "execute_result"
    }
   ],
   "source": [
    "scores"
   ]
  },
  {
   "cell_type": "code",
   "execution_count": 153,
   "id": "f7e8d445",
   "metadata": {},
   "outputs": [
    {
     "data": {
      "text/plain": [
       "991"
      ]
     },
     "execution_count": 153,
     "metadata": {},
     "output_type": "execute_result"
    }
   ],
   "source": [
    "np.argmax(scores)"
   ]
  },
  {
   "cell_type": "code",
   "execution_count": 154,
   "id": "935d5c52",
   "metadata": {},
   "outputs": [
    {
     "data": {
      "text/plain": [
       "0.7513423961630701"
      ]
     },
     "execution_count": 154,
     "metadata": {},
     "output_type": "execute_result"
    }
   ],
   "source": [
    "scores[np.argmax(scores)]"
   ]
  },
  {
   "cell_type": "code",
   "execution_count": 155,
   "id": "598793f8",
   "metadata": {},
   "outputs": [
    {
     "data": {
      "text/plain": [
       "0.7416467456631669"
      ]
     },
     "execution_count": 155,
     "metadata": {},
     "output_type": "execute_result"
    }
   ],
   "source": [
    "x_train,x_test,y_train,y_test=train_test_split(x,y,test_size=0.3,random_state=np.argmax(scores))\n",
    "lr=LinearRegression()\n",
    "model.fit(x_train,y_train)\n",
    "y_pred=model.predict(x_test)\n",
    "r2_score(y_test,y_pred)"
   ]
  },
  {
   "cell_type": "markdown",
   "id": "3bec9f44",
   "metadata": {},
   "source": [
    "# with cross validation"
   ]
  },
  {
   "cell_type": "code",
   "execution_count": 156,
   "id": "ce227367",
   "metadata": {},
   "outputs": [],
   "source": [
    "from sklearn.model_selection import cross_val_score\n",
    "from sklearn.feature_selection import RFE\n",
    "from sklearn.metrics import r2_score, mean_squared_error\n",
    "from sklearn.model_selection import KFold"
   ]
  },
  {
   "cell_type": "code",
   "execution_count": 157,
   "id": "89da5c39",
   "metadata": {},
   "outputs": [
    {
     "name": "stdout",
     "output_type": "stream",
     "text": [
      "[0.75482055 0.68727497 0.68364341 0.70344666 0.69532946 0.69293862\n",
      " 0.71888272 0.71736132 0.71166397 0.72864741]\n"
     ]
    }
   ],
   "source": [
    "reg = LinearRegression()\n",
    "k_fold = KFold(n_splits=10, shuffle=True, random_state=1)\n",
    "cross_validation_score = cross_val_score(reg, x_train, y_train, scoring='r2', cv = k_fold)\n",
    "print(cross_validation_score)"
   ]
  },
  {
   "cell_type": "code",
   "execution_count": 158,
   "id": "eeef8843",
   "metadata": {},
   "outputs": [
    {
     "data": {
      "text/plain": [
       "0.7094009089431722"
      ]
     },
     "execution_count": 158,
     "metadata": {},
     "output_type": "execute_result"
    }
   ],
   "source": [
    "cross_validation_score.mean()"
   ]
  },
  {
   "cell_type": "markdown",
   "id": "256fd6db",
   "metadata": {},
   "source": [
    "# Hyper parameters tuning"
   ]
  },
  {
   "cell_type": "code",
   "execution_count": 159,
   "id": "42ab0cba",
   "metadata": {},
   "outputs": [],
   "source": [
    "from sklearn.model_selection import GridSearchCV\n",
    "k_folds = KFold(n_splits=10, shuffle=True, random_state=1)\n",
    "\n",
    "hyper_parameters = [{'n_features_to_select':list(range(1, 15))}]\n",
    "\n",
    "reg = LinearRegression()\n",
    "reg.fit(x_train, y_train)\n",
    "reg = RFE(reg)\n",
    "\n",
    "model = GridSearchCV(estimator=reg, param_grid=hyper_parameters, verbose=1, cv=k_folds,\n",
    "                    scoring='r2', return_train_score=True)"
   ]
  },
  {
   "cell_type": "code",
   "execution_count": 160,
   "id": "4a9346a2",
   "metadata": {},
   "outputs": [
    {
     "name": "stdout",
     "output_type": "stream",
     "text": [
      "Fitting 10 folds for each of 14 candidates, totalling 140 fits\n"
     ]
    },
    {
     "data": {
      "text/plain": [
       "GridSearchCV(cv=KFold(n_splits=10, random_state=1, shuffle=True),\n",
       "             estimator=RFE(estimator=LinearRegression()),\n",
       "             param_grid=[{'n_features_to_select': [1, 2, 3, 4, 5, 6, 7, 8, 9,\n",
       "                                                   10, 11, 12, 13, 14]}],\n",
       "             return_train_score=True, scoring='r2', verbose=1)"
      ]
     },
     "execution_count": 160,
     "metadata": {},
     "output_type": "execute_result"
    }
   ],
   "source": [
    "model.fit(x_train, y_train)"
   ]
  },
  {
   "cell_type": "code",
   "execution_count": 161,
   "id": "7bc5945b",
   "metadata": {},
   "outputs": [
    {
     "data": {
      "text/plain": [
       "{'n_features_to_select': 10}"
      ]
     },
     "execution_count": 161,
     "metadata": {},
     "output_type": "execute_result"
    }
   ],
   "source": [
    "model.best_params_"
   ]
  },
  {
   "cell_type": "code",
   "execution_count": 162,
   "id": "4fcf204a",
   "metadata": {},
   "outputs": [
    {
     "data": {
      "text/plain": [
       "RFE(estimator=LinearRegression(), n_features_to_select=10)"
      ]
     },
     "execution_count": 162,
     "metadata": {},
     "output_type": "execute_result"
    }
   ],
   "source": [
    "model.best_estimator_"
   ]
  },
  {
   "cell_type": "code",
   "execution_count": 163,
   "id": "e2a2de55",
   "metadata": {},
   "outputs": [
    {
     "data": {
      "text/plain": [
       "0.7094009089431722"
      ]
     },
     "execution_count": 163,
     "metadata": {},
     "output_type": "execute_result"
    }
   ],
   "source": [
    "model.best_score_"
   ]
  },
  {
   "cell_type": "code",
   "execution_count": 164,
   "id": "3877510c",
   "metadata": {},
   "outputs": [
    {
     "data": {
      "text/plain": [
       "{'estimator__copy_X': True,\n",
       " 'estimator__fit_intercept': True,\n",
       " 'estimator__n_jobs': None,\n",
       " 'estimator__normalize': False,\n",
       " 'estimator__positive': False,\n",
       " 'estimator': LinearRegression(),\n",
       " 'importance_getter': 'auto',\n",
       " 'n_features_to_select': None,\n",
       " 'step': 1,\n",
       " 'verbose': 0}"
      ]
     },
     "execution_count": 164,
     "metadata": {},
     "output_type": "execute_result"
    }
   ],
   "source": [
    "reg.get_params()"
   ]
  },
  {
   "cell_type": "code",
   "execution_count": 165,
   "id": "4dda5266",
   "metadata": {},
   "outputs": [
    {
     "data": {
      "text/html": [
       "<div>\n",
       "<style scoped>\n",
       "    .dataframe tbody tr th:only-of-type {\n",
       "        vertical-align: middle;\n",
       "    }\n",
       "\n",
       "    .dataframe tbody tr th {\n",
       "        vertical-align: top;\n",
       "    }\n",
       "\n",
       "    .dataframe thead th {\n",
       "        text-align: right;\n",
       "    }\n",
       "</style>\n",
       "<table border=\"1\" class=\"dataframe\">\n",
       "  <thead>\n",
       "    <tr style=\"text-align: right;\">\n",
       "      <th></th>\n",
       "      <th>mean_fit_time</th>\n",
       "      <th>std_fit_time</th>\n",
       "      <th>mean_score_time</th>\n",
       "      <th>std_score_time</th>\n",
       "      <th>param_n_features_to_select</th>\n",
       "      <th>params</th>\n",
       "      <th>split0_test_score</th>\n",
       "      <th>split1_test_score</th>\n",
       "      <th>split2_test_score</th>\n",
       "      <th>split3_test_score</th>\n",
       "      <th>...</th>\n",
       "      <th>split2_train_score</th>\n",
       "      <th>split3_train_score</th>\n",
       "      <th>split4_train_score</th>\n",
       "      <th>split5_train_score</th>\n",
       "      <th>split6_train_score</th>\n",
       "      <th>split7_train_score</th>\n",
       "      <th>split8_train_score</th>\n",
       "      <th>split9_train_score</th>\n",
       "      <th>mean_train_score</th>\n",
       "      <th>std_train_score</th>\n",
       "    </tr>\n",
       "  </thead>\n",
       "  <tbody>\n",
       "    <tr>\n",
       "      <th>0</th>\n",
       "      <td>0.017464</td>\n",
       "      <td>0.003095</td>\n",
       "      <td>0.002534</td>\n",
       "      <td>0.003593</td>\n",
       "      <td>1</td>\n",
       "      <td>{'n_features_to_select': 1}</td>\n",
       "      <td>0.181179</td>\n",
       "      <td>0.184707</td>\n",
       "      <td>0.129512</td>\n",
       "      <td>0.147122</td>\n",
       "      <td>...</td>\n",
       "      <td>0.175869</td>\n",
       "      <td>0.173854</td>\n",
       "      <td>0.173679</td>\n",
       "      <td>0.172795</td>\n",
       "      <td>0.172942</td>\n",
       "      <td>0.165688</td>\n",
       "      <td>0.168520</td>\n",
       "      <td>0.170139</td>\n",
       "      <td>0.171321</td>\n",
       "      <td>0.002876</td>\n",
       "    </tr>\n",
       "    <tr>\n",
       "      <th>1</th>\n",
       "      <td>0.015660</td>\n",
       "      <td>0.007899</td>\n",
       "      <td>0.003378</td>\n",
       "      <td>0.006521</td>\n",
       "      <td>2</td>\n",
       "      <td>{'n_features_to_select': 2}</td>\n",
       "      <td>0.272546</td>\n",
       "      <td>0.295792</td>\n",
       "      <td>0.234350</td>\n",
       "      <td>0.258074</td>\n",
       "      <td>...</td>\n",
       "      <td>0.279710</td>\n",
       "      <td>0.277013</td>\n",
       "      <td>0.280497</td>\n",
       "      <td>0.278075</td>\n",
       "      <td>0.273135</td>\n",
       "      <td>0.268066</td>\n",
       "      <td>0.271957</td>\n",
       "      <td>0.276023</td>\n",
       "      <td>0.275272</td>\n",
       "      <td>0.003629</td>\n",
       "    </tr>\n",
       "    <tr>\n",
       "      <th>2</th>\n",
       "      <td>0.016241</td>\n",
       "      <td>0.006589</td>\n",
       "      <td>0.001771</td>\n",
       "      <td>0.004988</td>\n",
       "      <td>3</td>\n",
       "      <td>{'n_features_to_select': 3}</td>\n",
       "      <td>0.296578</td>\n",
       "      <td>0.330036</td>\n",
       "      <td>0.264138</td>\n",
       "      <td>0.281458</td>\n",
       "      <td>...</td>\n",
       "      <td>0.304616</td>\n",
       "      <td>0.302672</td>\n",
       "      <td>0.305216</td>\n",
       "      <td>0.303469</td>\n",
       "      <td>0.298751</td>\n",
       "      <td>0.294872</td>\n",
       "      <td>0.298210</td>\n",
       "      <td>0.300795</td>\n",
       "      <td>0.300685</td>\n",
       "      <td>0.003206</td>\n",
       "    </tr>\n",
       "    <tr>\n",
       "      <th>3</th>\n",
       "      <td>0.017830</td>\n",
       "      <td>0.001222</td>\n",
       "      <td>0.003632</td>\n",
       "      <td>0.006218</td>\n",
       "      <td>4</td>\n",
       "      <td>{'n_features_to_select': 4}</td>\n",
       "      <td>0.325924</td>\n",
       "      <td>0.327472</td>\n",
       "      <td>0.311648</td>\n",
       "      <td>0.302730</td>\n",
       "      <td>...</td>\n",
       "      <td>0.327854</td>\n",
       "      <td>0.328852</td>\n",
       "      <td>0.330223</td>\n",
       "      <td>0.329183</td>\n",
       "      <td>0.321428</td>\n",
       "      <td>0.321464</td>\n",
       "      <td>0.326574</td>\n",
       "      <td>0.326439</td>\n",
       "      <td>0.326432</td>\n",
       "      <td>0.002824</td>\n",
       "    </tr>\n",
       "    <tr>\n",
       "      <th>4</th>\n",
       "      <td>0.012967</td>\n",
       "      <td>0.007442</td>\n",
       "      <td>0.002653</td>\n",
       "      <td>0.005167</td>\n",
       "      <td>5</td>\n",
       "      <td>{'n_features_to_select': 5}</td>\n",
       "      <td>0.534095</td>\n",
       "      <td>0.537141</td>\n",
       "      <td>0.520050</td>\n",
       "      <td>0.545554</td>\n",
       "      <td>...</td>\n",
       "      <td>0.553086</td>\n",
       "      <td>0.550229</td>\n",
       "      <td>0.549629</td>\n",
       "      <td>0.553129</td>\n",
       "      <td>0.546826</td>\n",
       "      <td>0.548136</td>\n",
       "      <td>0.546299</td>\n",
       "      <td>0.549314</td>\n",
       "      <td>0.549928</td>\n",
       "      <td>0.002252</td>\n",
       "    </tr>\n",
       "    <tr>\n",
       "      <th>5</th>\n",
       "      <td>0.008917</td>\n",
       "      <td>0.007013</td>\n",
       "      <td>0.002066</td>\n",
       "      <td>0.004815</td>\n",
       "      <td>6</td>\n",
       "      <td>{'n_features_to_select': 6}</td>\n",
       "      <td>0.536724</td>\n",
       "      <td>0.539117</td>\n",
       "      <td>0.521583</td>\n",
       "      <td>0.548281</td>\n",
       "      <td>...</td>\n",
       "      <td>0.554711</td>\n",
       "      <td>0.551714</td>\n",
       "      <td>0.551168</td>\n",
       "      <td>0.554993</td>\n",
       "      <td>0.548497</td>\n",
       "      <td>0.549727</td>\n",
       "      <td>0.547745</td>\n",
       "      <td>0.551187</td>\n",
       "      <td>0.551545</td>\n",
       "      <td>0.002296</td>\n",
       "    </tr>\n",
       "    <tr>\n",
       "      <th>6</th>\n",
       "      <td>0.015293</td>\n",
       "      <td>0.005270</td>\n",
       "      <td>0.001068</td>\n",
       "      <td>0.003203</td>\n",
       "      <td>7</td>\n",
       "      <td>{'n_features_to_select': 7}</td>\n",
       "      <td>0.738117</td>\n",
       "      <td>0.671706</td>\n",
       "      <td>0.669236</td>\n",
       "      <td>0.686371</td>\n",
       "      <td>...</td>\n",
       "      <td>0.698416</td>\n",
       "      <td>0.696432</td>\n",
       "      <td>0.696018</td>\n",
       "      <td>0.698571</td>\n",
       "      <td>0.694974</td>\n",
       "      <td>0.694812</td>\n",
       "      <td>0.695331</td>\n",
       "      <td>0.692820</td>\n",
       "      <td>0.695612</td>\n",
       "      <td>0.002408</td>\n",
       "    </tr>\n",
       "    <tr>\n",
       "      <th>7</th>\n",
       "      <td>0.010014</td>\n",
       "      <td>0.006140</td>\n",
       "      <td>0.002733</td>\n",
       "      <td>0.005056</td>\n",
       "      <td>8</td>\n",
       "      <td>{'n_features_to_select': 8}</td>\n",
       "      <td>0.744384</td>\n",
       "      <td>0.672785</td>\n",
       "      <td>0.669974</td>\n",
       "      <td>0.686557</td>\n",
       "      <td>...</td>\n",
       "      <td>0.699304</td>\n",
       "      <td>0.697370</td>\n",
       "      <td>0.696939</td>\n",
       "      <td>0.699462</td>\n",
       "      <td>0.695829</td>\n",
       "      <td>0.695858</td>\n",
       "      <td>0.696350</td>\n",
       "      <td>0.699188</td>\n",
       "      <td>0.697590</td>\n",
       "      <td>0.001416</td>\n",
       "    </tr>\n",
       "    <tr>\n",
       "      <th>8</th>\n",
       "      <td>0.007876</td>\n",
       "      <td>0.007963</td>\n",
       "      <td>0.006093</td>\n",
       "      <td>0.006307</td>\n",
       "      <td>9</td>\n",
       "      <td>{'n_features_to_select': 9}</td>\n",
       "      <td>0.744435</td>\n",
       "      <td>0.677525</td>\n",
       "      <td>0.682765</td>\n",
       "      <td>0.686583</td>\n",
       "      <td>...</td>\n",
       "      <td>0.703597</td>\n",
       "      <td>0.703065</td>\n",
       "      <td>0.702695</td>\n",
       "      <td>0.703645</td>\n",
       "      <td>0.700771</td>\n",
       "      <td>0.701332</td>\n",
       "      <td>0.701669</td>\n",
       "      <td>0.699188</td>\n",
       "      <td>0.701679</td>\n",
       "      <td>0.002233</td>\n",
       "    </tr>\n",
       "    <tr>\n",
       "      <th>9</th>\n",
       "      <td>0.006925</td>\n",
       "      <td>0.007050</td>\n",
       "      <td>0.000464</td>\n",
       "      <td>0.001083</td>\n",
       "      <td>10</td>\n",
       "      <td>{'n_features_to_select': 10}</td>\n",
       "      <td>0.754821</td>\n",
       "      <td>0.687275</td>\n",
       "      <td>0.683643</td>\n",
       "      <td>0.703447</td>\n",
       "      <td>...</td>\n",
       "      <td>0.714994</td>\n",
       "      <td>0.712730</td>\n",
       "      <td>0.713491</td>\n",
       "      <td>0.714099</td>\n",
       "      <td>0.711059</td>\n",
       "      <td>0.711217</td>\n",
       "      <td>0.711823</td>\n",
       "      <td>0.709542</td>\n",
       "      <td>0.712064</td>\n",
       "      <td>0.002364</td>\n",
       "    </tr>\n",
       "    <tr>\n",
       "      <th>10</th>\n",
       "      <td>0.003643</td>\n",
       "      <td>0.005270</td>\n",
       "      <td>0.003958</td>\n",
       "      <td>0.006499</td>\n",
       "      <td>11</td>\n",
       "      <td>{'n_features_to_select': 11}</td>\n",
       "      <td>0.754821</td>\n",
       "      <td>0.687275</td>\n",
       "      <td>0.683643</td>\n",
       "      <td>0.703447</td>\n",
       "      <td>...</td>\n",
       "      <td>0.714994</td>\n",
       "      <td>0.712730</td>\n",
       "      <td>0.713491</td>\n",
       "      <td>0.714099</td>\n",
       "      <td>0.711059</td>\n",
       "      <td>0.711217</td>\n",
       "      <td>0.711823</td>\n",
       "      <td>0.709542</td>\n",
       "      <td>0.712064</td>\n",
       "      <td>0.002364</td>\n",
       "    </tr>\n",
       "    <tr>\n",
       "      <th>11</th>\n",
       "      <td>0.009173</td>\n",
       "      <td>0.007515</td>\n",
       "      <td>0.003945</td>\n",
       "      <td>0.006419</td>\n",
       "      <td>12</td>\n",
       "      <td>{'n_features_to_select': 12}</td>\n",
       "      <td>0.754821</td>\n",
       "      <td>0.687275</td>\n",
       "      <td>0.683643</td>\n",
       "      <td>0.703447</td>\n",
       "      <td>...</td>\n",
       "      <td>0.714994</td>\n",
       "      <td>0.712730</td>\n",
       "      <td>0.713491</td>\n",
       "      <td>0.714099</td>\n",
       "      <td>0.711059</td>\n",
       "      <td>0.711217</td>\n",
       "      <td>0.711823</td>\n",
       "      <td>0.709542</td>\n",
       "      <td>0.712064</td>\n",
       "      <td>0.002364</td>\n",
       "    </tr>\n",
       "    <tr>\n",
       "      <th>12</th>\n",
       "      <td>0.005746</td>\n",
       "      <td>0.007274</td>\n",
       "      <td>0.002649</td>\n",
       "      <td>0.005013</td>\n",
       "      <td>13</td>\n",
       "      <td>{'n_features_to_select': 13}</td>\n",
       "      <td>0.754821</td>\n",
       "      <td>0.687275</td>\n",
       "      <td>0.683643</td>\n",
       "      <td>0.703447</td>\n",
       "      <td>...</td>\n",
       "      <td>0.714994</td>\n",
       "      <td>0.712730</td>\n",
       "      <td>0.713491</td>\n",
       "      <td>0.714099</td>\n",
       "      <td>0.711059</td>\n",
       "      <td>0.711217</td>\n",
       "      <td>0.711823</td>\n",
       "      <td>0.709542</td>\n",
       "      <td>0.712064</td>\n",
       "      <td>0.002364</td>\n",
       "    </tr>\n",
       "    <tr>\n",
       "      <th>13</th>\n",
       "      <td>0.009688</td>\n",
       "      <td>0.008179</td>\n",
       "      <td>0.003361</td>\n",
       "      <td>0.004835</td>\n",
       "      <td>14</td>\n",
       "      <td>{'n_features_to_select': 14}</td>\n",
       "      <td>0.754821</td>\n",
       "      <td>0.687275</td>\n",
       "      <td>0.683643</td>\n",
       "      <td>0.703447</td>\n",
       "      <td>...</td>\n",
       "      <td>0.714994</td>\n",
       "      <td>0.712730</td>\n",
       "      <td>0.713491</td>\n",
       "      <td>0.714099</td>\n",
       "      <td>0.711059</td>\n",
       "      <td>0.711217</td>\n",
       "      <td>0.711823</td>\n",
       "      <td>0.709542</td>\n",
       "      <td>0.712064</td>\n",
       "      <td>0.002364</td>\n",
       "    </tr>\n",
       "  </tbody>\n",
       "</table>\n",
       "<p>14 rows × 31 columns</p>\n",
       "</div>"
      ],
      "text/plain": [
       "    mean_fit_time  std_fit_time  mean_score_time  std_score_time  \\\n",
       "0        0.017464      0.003095         0.002534        0.003593   \n",
       "1        0.015660      0.007899         0.003378        0.006521   \n",
       "2        0.016241      0.006589         0.001771        0.004988   \n",
       "3        0.017830      0.001222         0.003632        0.006218   \n",
       "4        0.012967      0.007442         0.002653        0.005167   \n",
       "5        0.008917      0.007013         0.002066        0.004815   \n",
       "6        0.015293      0.005270         0.001068        0.003203   \n",
       "7        0.010014      0.006140         0.002733        0.005056   \n",
       "8        0.007876      0.007963         0.006093        0.006307   \n",
       "9        0.006925      0.007050         0.000464        0.001083   \n",
       "10       0.003643      0.005270         0.003958        0.006499   \n",
       "11       0.009173      0.007515         0.003945        0.006419   \n",
       "12       0.005746      0.007274         0.002649        0.005013   \n",
       "13       0.009688      0.008179         0.003361        0.004835   \n",
       "\n",
       "   param_n_features_to_select                        params  \\\n",
       "0                           1   {'n_features_to_select': 1}   \n",
       "1                           2   {'n_features_to_select': 2}   \n",
       "2                           3   {'n_features_to_select': 3}   \n",
       "3                           4   {'n_features_to_select': 4}   \n",
       "4                           5   {'n_features_to_select': 5}   \n",
       "5                           6   {'n_features_to_select': 6}   \n",
       "6                           7   {'n_features_to_select': 7}   \n",
       "7                           8   {'n_features_to_select': 8}   \n",
       "8                           9   {'n_features_to_select': 9}   \n",
       "9                          10  {'n_features_to_select': 10}   \n",
       "10                         11  {'n_features_to_select': 11}   \n",
       "11                         12  {'n_features_to_select': 12}   \n",
       "12                         13  {'n_features_to_select': 13}   \n",
       "13                         14  {'n_features_to_select': 14}   \n",
       "\n",
       "    split0_test_score  split1_test_score  split2_test_score  \\\n",
       "0            0.181179           0.184707           0.129512   \n",
       "1            0.272546           0.295792           0.234350   \n",
       "2            0.296578           0.330036           0.264138   \n",
       "3            0.325924           0.327472           0.311648   \n",
       "4            0.534095           0.537141           0.520050   \n",
       "5            0.536724           0.539117           0.521583   \n",
       "6            0.738117           0.671706           0.669236   \n",
       "7            0.744384           0.672785           0.669974   \n",
       "8            0.744435           0.677525           0.682765   \n",
       "9            0.754821           0.687275           0.683643   \n",
       "10           0.754821           0.687275           0.683643   \n",
       "11           0.754821           0.687275           0.683643   \n",
       "12           0.754821           0.687275           0.683643   \n",
       "13           0.754821           0.687275           0.683643   \n",
       "\n",
       "    split3_test_score  ...  split2_train_score  split3_train_score  \\\n",
       "0            0.147122  ...            0.175869            0.173854   \n",
       "1            0.258074  ...            0.279710            0.277013   \n",
       "2            0.281458  ...            0.304616            0.302672   \n",
       "3            0.302730  ...            0.327854            0.328852   \n",
       "4            0.545554  ...            0.553086            0.550229   \n",
       "5            0.548281  ...            0.554711            0.551714   \n",
       "6            0.686371  ...            0.698416            0.696432   \n",
       "7            0.686557  ...            0.699304            0.697370   \n",
       "8            0.686583  ...            0.703597            0.703065   \n",
       "9            0.703447  ...            0.714994            0.712730   \n",
       "10           0.703447  ...            0.714994            0.712730   \n",
       "11           0.703447  ...            0.714994            0.712730   \n",
       "12           0.703447  ...            0.714994            0.712730   \n",
       "13           0.703447  ...            0.714994            0.712730   \n",
       "\n",
       "    split4_train_score  split5_train_score  split6_train_score  \\\n",
       "0             0.173679            0.172795            0.172942   \n",
       "1             0.280497            0.278075            0.273135   \n",
       "2             0.305216            0.303469            0.298751   \n",
       "3             0.330223            0.329183            0.321428   \n",
       "4             0.549629            0.553129            0.546826   \n",
       "5             0.551168            0.554993            0.548497   \n",
       "6             0.696018            0.698571            0.694974   \n",
       "7             0.696939            0.699462            0.695829   \n",
       "8             0.702695            0.703645            0.700771   \n",
       "9             0.713491            0.714099            0.711059   \n",
       "10            0.713491            0.714099            0.711059   \n",
       "11            0.713491            0.714099            0.711059   \n",
       "12            0.713491            0.714099            0.711059   \n",
       "13            0.713491            0.714099            0.711059   \n",
       "\n",
       "    split7_train_score  split8_train_score  split9_train_score  \\\n",
       "0             0.165688            0.168520            0.170139   \n",
       "1             0.268066            0.271957            0.276023   \n",
       "2             0.294872            0.298210            0.300795   \n",
       "3             0.321464            0.326574            0.326439   \n",
       "4             0.548136            0.546299            0.549314   \n",
       "5             0.549727            0.547745            0.551187   \n",
       "6             0.694812            0.695331            0.692820   \n",
       "7             0.695858            0.696350            0.699188   \n",
       "8             0.701332            0.701669            0.699188   \n",
       "9             0.711217            0.711823            0.709542   \n",
       "10            0.711217            0.711823            0.709542   \n",
       "11            0.711217            0.711823            0.709542   \n",
       "12            0.711217            0.711823            0.709542   \n",
       "13            0.711217            0.711823            0.709542   \n",
       "\n",
       "    mean_train_score  std_train_score  \n",
       "0           0.171321         0.002876  \n",
       "1           0.275272         0.003629  \n",
       "2           0.300685         0.003206  \n",
       "3           0.326432         0.002824  \n",
       "4           0.549928         0.002252  \n",
       "5           0.551545         0.002296  \n",
       "6           0.695612         0.002408  \n",
       "7           0.697590         0.001416  \n",
       "8           0.701679         0.002233  \n",
       "9           0.712064         0.002364  \n",
       "10          0.712064         0.002364  \n",
       "11          0.712064         0.002364  \n",
       "12          0.712064         0.002364  \n",
       "13          0.712064         0.002364  \n",
       "\n",
       "[14 rows x 31 columns]"
      ]
     },
     "execution_count": 165,
     "metadata": {},
     "output_type": "execute_result"
    }
   ],
   "source": [
    "results= pd.DataFrame(model.cv_results_)\n",
    "results"
   ]
  },
  {
   "cell_type": "code",
   "execution_count": 166,
   "id": "d3c031a8",
   "metadata": {},
   "outputs": [
    {
     "data": {
      "text/plain": [
       "<matplotlib.legend.Legend at 0x16080b6d550>"
      ]
     },
     "execution_count": 166,
     "metadata": {},
     "output_type": "execute_result"
    },
    {
     "data": {
      "image/png": "[encoded data removed]",
      "text/plain": [
       "<Figure size 432x288 with 1 Axes>"
      ]
     },
     "metadata": {
      "needs_background": "light"
     },
     "output_type": "display_data"
    }
   ],
   "source": [
    "plt.plot(results['param_n_features_to_select'], results['mean_test_score'])\n",
    "plt.plot(results['param_n_features_to_select'], results['mean_train_score'])\n",
    "plt.xlabel('n_features')\n",
    "plt.ylabel('r squared')\n",
    "plt.legend([('train'), ('test')], loc = 'lower right')"
   ]
  },
  {
   "cell_type": "code",
   "execution_count": 167,
   "id": "b0cf5e60",
   "metadata": {},
   "outputs": [
    {
     "name": "stdout",
     "output_type": "stream",
     "text": [
      "R Squared : 0.7273443573529865\n"
     ]
    }
   ],
   "source": [
    "reg = LinearRegression()\n",
    "reg.fit(x_train, y_train)\n",
    "\n",
    "final_model = RFE(reg, n_features_to_select=7)\n",
    "final_model.fit(x_train, y_train)\n",
    "\n",
    "y_preds = final_model.predict(x_test)\n",
    "score = r2_score(y_test, y_preds)\n",
    "print('R Squared :', score)\n"
   ]
  },
  {
   "cell_type": "code",
   "execution_count": 168,
   "id": "71f0b109",
   "metadata": {},
   "outputs": [
    {
     "data": {
      "text/plain": [
       "array([802780.2518849 , 981864.09683793, 681768.4085899 , ...,\n",
       "        -8357.08874633, 711210.39888928,  14561.39642571])"
      ]
     },
     "execution_count": 168,
     "metadata": {},
     "output_type": "execute_result"
    }
   ],
   "source": [
    "y_preds"
   ]
  },
  {
   "cell_type": "code",
   "execution_count": null,
   "id": "341724a0",
   "metadata": {},
   "outputs": [],
   "source": []
  },
  {
   "cell_type": "code",
   "execution_count": null,
   "id": "f4a64266",
   "metadata": {},
   "outputs": [],
   "source": []
  },
  {
   "cell_type": "code",
   "execution_count": null,
   "id": "f33fab5e",
   "metadata": {},
   "outputs": [],
   "source": []
  },
  {
   "cell_type": "code",
   "execution_count": null,
   "id": "a523ceb2",
   "metadata": {},
   "outputs": [],
   "source": []
  }
 ],
 "metadata": {
  "kernelspec": {
   "display_name": "Python 3",
   "language": "python",
   "name": "python3"
  },
  "language_info": {
   "codemirror_mode": {
    "name": "ipython",
    "version": 3
   },
   "file_extension": ".py",
   "mimetype": "text/x-python",
   "name": "python",
   "nbconvert_exporter": "python",
   "pygments_lexer": "ipython3",
   "version": "3.8.8"
  }
 },
 "nbformat": 4,
 "nbformat_minor": 5
}
